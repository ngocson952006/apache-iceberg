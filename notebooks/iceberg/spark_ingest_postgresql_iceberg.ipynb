{
 "cells": [
  {
   "metadata": {},
   "cell_type": "markdown",
   "source": "Ingestion data to Iceberg using Pyspark",
   "id": "1cd389d03faebe8d"
  },
  {
   "metadata": {
    "ExecuteTime": {
     "end_time": "2025-08-27T12:13:23.322841Z",
     "start_time": "2025-08-27T12:13:21.540827Z"
    }
   },
   "cell_type": "code",
   "source": [
    "import subprocess\n",
    "\n",
    "\n",
    "# Function to install Maven (Linux/macOS only; Windows users must install manually)\n",
    "def install_maven():\n",
    "    try:\n",
    "        # Check if Maven is already installed\n",
    "        subprocess.run([\"mvn\", \"-version\"], check=True, stdout=subprocess.PIPE, stderr=subprocess.PIPE)\n",
    "        print(\"Maven is already installed.\")\n",
    "    except FileNotFoundError:\n",
    "        print(\"Maven not found. Installing Maven...\")\n",
    "        subprocess.run([\"apt\", \"update\"], check=True)\n",
    "        subprocess.run([\"apt\", \"install\", \"-y\", \"maven\"], check=True)  # For Linux (apt)\n",
    "        print(\"Maven installed successfully.\")\n",
    "\n",
    "\n",
    "# Function to download a specific JAR using Maven\n",
    "def download_jar(group_id, artifact_id, version):\n",
    "    try:\n",
    "        print(f\"Downloading JAR: {group_id}:{artifact_id}:{version}\")\n",
    "        subprocess.run([\n",
    "            \"mvn\", \"dependency:copy\",\n",
    "            f\"-Dartifact={group_id}:{artifact_id}:{version}\"\n",
    "        ], check=True)\n",
    "        print(f\"JAR downloaded successfully\")\n",
    "    except subprocess.CalledProcessError as e:\n",
    "        print(f\"Failed to download JAR: {e}\")\n",
    "\n",
    "\n",
    "# Ensure Maven is installed\n",
    "install_maven()\n",
    "# Download required JAR(s)\n",
    "download_jar(\"org.slf4j\", \"slf4j-api\", \"1.7.30\")\n"
   ],
   "id": "a18a847b5c6738dc",
   "outputs": [
    {
     "name": "stdout",
     "output_type": "stream",
     "text": [
      "Maven is already installed.\n",
      "Downloading JAR: org.slf4j:slf4j-api:1.7.30\n",
      "[INFO] Scanning for projects...\n",
      "[INFO] \n",
      "[INFO] ------------------< org.apache.maven:standalone-pom >-------------------\n",
      "[INFO] Building Maven Stub Project (No POM) 1\n",
      "[INFO] --------------------------------[ pom ]---------------------------------\n",
      "[INFO] \n",
      "[INFO] --- dependency:3.7.0:copy (default-cli) @ standalone-pom ---\n",
      "[INFO] Configured Artifact: org.slf4j:slf4j-api:1.7.30:jar\n",
      "[INFO] Copying artifact 'org.slf4j:slf4j-api:jar:1.7.30' (/Users/truongngocson/.m2/repository/org/slf4j/slf4j-api/1.7.30/slf4j-api-1.7.30.jar) to /Users/truongngocson/Documents/Projects/apache-iceberg/notebooks/iceberg/${project.basedir}/target/dependency/slf4j-api-1.7.30.jar\n",
      "[INFO] ------------------------------------------------------------------------\n",
      "[INFO] BUILD SUCCESS\n",
      "[INFO] ------------------------------------------------------------------------\n",
      "[INFO] Total time:  0.526 s\n",
      "[INFO] Finished at: 2025-08-27T19:13:23+07:00\n",
      "[INFO] ------------------------------------------------------------------------\n",
      "JAR downloaded successfully\n"
     ]
    }
   ],
   "execution_count": 1
  },
  {
   "metadata": {},
   "cell_type": "markdown",
   "source": "Start the ingestion",
   "id": "4d6e448c40654e2e"
  },
  {
   "metadata": {
    "collapsed": true,
    "ExecuteTime": {
     "end_time": "2025-08-27T12:13:27.457618Z",
     "start_time": "2025-08-27T12:13:23.342491Z"
    }
   },
   "cell_type": "code",
   "source": [
    "import pyspark\n",
    "import os\n",
    "from pyspark.sql import SparkSession\n",
    "\n",
    "## DEFINE VARIABLES\n",
    "catalog_uri = os.getenv('CATALOG_URI', \"http://localhost:19120/api/v1\")\n",
    "warehouse = \"s3://warehouse/\"\n",
    "storage_uri = os.getenv('STORAGE_URI', \"http://127.0.0.1:9000\")\n",
    "# Define the JDBC connection properties\n",
    "jdbc_url = os.getenv('JDBC_URL', \"jdbc:postgresql://localhost:5435/mydb\")\n",
    "properties = {\n",
    "    \"user\": \"myuser\",\n",
    "    \"password\": \"mypassword\",\n",
    "    \"driver\": \"org.postgresql.Driver\"\n",
    "}\n",
    "local_jars = ','.join([\n",
    "    'slf4j-api-1.7.30.jar'\n",
    "])\n",
    "\n",
    "## CONFIGURE SPARK SESSION\n",
    "conf = (\n",
    "    pyspark.SparkConf()\n",
    "    .setAppName('Iceberg Ingestion')\n",
    "    .set('spark.jars.packages',\n",
    "         'org.postgresql:postgresql:42.7.3,'\n",
    "         'org.apache.iceberg:iceberg-spark-runtime-3.5_2.12:1.5.0,'\n",
    "         'org.projectnessie.nessie-integrations:nessie-spark-extensions-3.5_2.12:0.77.1,'\n",
    "         'software.amazon.awssdk:bundle:2.24.8,'\n",
    "         'software.amazon.awssdk:url-connection-client:2.24.8')\n",
    "    .set('spark.sql.extensions',\n",
    "         'org.apache.iceberg.spark.extensions.IcebergSparkSessionExtensions,'\n",
    "         'org.projectnessie.spark.extensions.NessieSparkSessionExtensions')\n",
    "    .set('spark.sql.catalog.nessie', 'org.apache.iceberg.spark.SparkCatalog')\n",
    "    .set('spark.sql.catalog.nessie.uri', catalog_uri)\n",
    "    .set('spark.sql.catalog.nessie.ref', 'main')\n",
    "    .set('spark.sql.catalog.nessie.authentication.type', 'NONE')\n",
    "    .set('spark.sql.catalog.nessie.catalog-impl', 'org.apache.iceberg.nessie.NessieCatalog')\n",
    "    .set('spark.sql.catalog.nessie.s3.endpoint', storage_uri)\n",
    "    .set('spark.sql.catalog.nessie.warehouse', warehouse)\n",
    "    .set('spark.sql.catalog.nessie.io-impl', 'org.apache.iceberg.aws.s3.S3FileIO')\n",
    "    .set(\"spark.driver.memory\", \"2g\")\n",
    "    .set(\"spark.executor.memory\", \"2g\")\n",
    "    .set(\"spark.sql.shuffle.partitions\", \"64\")\n",
    "    .set(\"spark.sql.catalog.nessie.write.target-file-size-bytes\", str(128 * 1024 * 1024))\n",
    ")\n",
    "\n",
    "## START SPARK SESSION\n",
    "spark = SparkSession.builder.config(conf=conf).getOrCreate()"
   ],
   "id": "1e70702bd85a8fef",
   "outputs": [
    {
     "name": "stderr",
     "output_type": "stream",
     "text": [
      "25/08/27 19:13:24 WARN Utils: Your hostname, MacBook-Air-cua-Ngoc-2.local resolves to a loopback address: 127.0.0.1; using 192.168.1.5 instead (on interface en0)\n",
      "25/08/27 19:13:24 WARN Utils: Set SPARK_LOCAL_IP if you need to bind to another address\n",
      "Ivy Default Cache set to: /Users/truongngocson/.ivy2/cache\n",
      "The jars for the packages stored in: /Users/truongngocson/.ivy2/jars\n",
      "org.postgresql#postgresql added as a dependency\n",
      "org.apache.iceberg#iceberg-spark-runtime-3.5_2.12 added as a dependency\n",
      "org.projectnessie.nessie-integrations#nessie-spark-extensions-3.5_2.12 added as a dependency\n",
      "software.amazon.awssdk#bundle added as a dependency\n",
      "software.amazon.awssdk#url-connection-client added as a dependency\n",
      ":: resolving dependencies :: org.apache.spark#spark-submit-parent-18d40399-5fdd-4018-8b76-59d9cb75d4ad;1.0\n",
      "\tconfs: [default]\n",
      "\tfound org.postgresql#postgresql;42.7.3 in central\n",
      "\tfound org.checkerframework#checker-qual;3.42.0 in local-m2-cache\n"
     ]
    },
    {
     "name": "stdout",
     "output_type": "stream",
     "text": [
      ":: loading settings :: url = jar:file:/Users/truongngocson/Documents/Projects/apache-iceberg/.venv/lib/python3.12/site-packages/pyspark/jars/ivy-2.5.1.jar!/org/apache/ivy/core/settings/ivysettings.xml\n"
     ]
    },
    {
     "name": "stderr",
     "output_type": "stream",
     "text": [
      "\tfound org.apache.iceberg#iceberg-spark-runtime-3.5_2.12;1.5.0 in central\n",
      "\tfound org.projectnessie.nessie-integrations#nessie-spark-extensions-3.5_2.12;0.77.1 in central\n",
      "\tfound software.amazon.awssdk#bundle;2.24.8 in central\n",
      "\tfound software.amazon.awssdk#url-connection-client;2.24.8 in central\n",
      "\tfound software.amazon.awssdk#utils;2.24.8 in central\n",
      "\tfound org.reactivestreams#reactive-streams;1.0.4 in local-m2-cache\n",
      "\tfound software.amazon.awssdk#annotations;2.24.8 in central\n",
      "\tfound org.slf4j#slf4j-api;1.7.30 in local-m2-cache\n",
      "\tfound software.amazon.awssdk#http-client-spi;2.24.8 in central\n",
      "\tfound software.amazon.awssdk#metrics-spi;2.24.8 in central\n",
      ":: resolution report :: resolve 182ms :: artifacts dl 13ms\n",
      "\t:: modules in use:\n",
      "\torg.apache.iceberg#iceberg-spark-runtime-3.5_2.12;1.5.0 from central in [default]\n",
      "\torg.checkerframework#checker-qual;3.42.0 from local-m2-cache in [default]\n",
      "\torg.postgresql#postgresql;42.7.3 from central in [default]\n",
      "\torg.projectnessie.nessie-integrations#nessie-spark-extensions-3.5_2.12;0.77.1 from central in [default]\n",
      "\torg.reactivestreams#reactive-streams;1.0.4 from local-m2-cache in [default]\n",
      "\torg.slf4j#slf4j-api;1.7.30 from local-m2-cache in [default]\n",
      "\tsoftware.amazon.awssdk#annotations;2.24.8 from central in [default]\n",
      "\tsoftware.amazon.awssdk#bundle;2.24.8 from central in [default]\n",
      "\tsoftware.amazon.awssdk#http-client-spi;2.24.8 from central in [default]\n",
      "\tsoftware.amazon.awssdk#metrics-spi;2.24.8 from central in [default]\n",
      "\tsoftware.amazon.awssdk#url-connection-client;2.24.8 from central in [default]\n",
      "\tsoftware.amazon.awssdk#utils;2.24.8 from central in [default]\n",
      "\t---------------------------------------------------------------------\n",
      "\t|                  |            modules            ||   artifacts   |\n",
      "\t|       conf       | number| search|dwnlded|evicted|| number|dwnlded|\n",
      "\t---------------------------------------------------------------------\n",
      "\t|      default     |   12  |   0   |   0   |   0   ||   12  |   0   |\n",
      "\t---------------------------------------------------------------------\n",
      ":: retrieving :: org.apache.spark#spark-submit-parent-18d40399-5fdd-4018-8b76-59d9cb75d4ad\n",
      "\tconfs: [default]\n",
      "\t0 artifacts copied, 12 already retrieved (0kB/4ms)\n",
      "25/08/27 19:13:24 WARN NativeCodeLoader: Unable to load native-hadoop library for your platform... using builtin-java classes where applicable\n",
      "Setting default log level to \"WARN\".\n",
      "To adjust logging level use sc.setLogLevel(newLevel). For SparkR, use setLogLevel(newLevel).\n"
     ]
    }
   ],
   "execution_count": 2
  },
  {
   "metadata": {
    "ExecuteTime": {
     "end_time": "2025-08-27T12:17:03.365529Z",
     "start_time": "2025-08-27T12:13:27.589616Z"
    }
   },
   "cell_type": "code",
   "source": [
    "print(\"Spark Running\")\n",
    "spark.catalog.clearCache()\n",
    "\n",
    "# Read the sales_data table from Postgres into a Spark DataFrame\n",
    "sales_df = spark.read.jdbc(url=jdbc_url, table=\"hr_data\", properties=properties)\n",
    "\n",
    "# Show the first few rows of the dataset\n",
    "sales_df.show()\n",
    "# Control number of parallel output writers explicitly\n",
    "sales_df = sales_df.repartition(8)\n",
    "\n",
    "\n",
    "#Create a namespace\n",
    "spark.sql(\"CREATE NAMESPACE IF NOT EXISTS nessie.hr;\")\n",
    "\n",
    "# Write the DataFrame to an Iceberg table in the Nessie catalog\n",
    "sales_df.writeTo(\"nessie.hr.hr_data\").createOrReplace()\n",
    "\n",
    "# Verify that the data was written to Iceberg by reading the table\n",
    "spark.read.table(\"nessie.hr.hr_data\").show()\n",
    "\n",
    "print(\"Ingested data successfully into Iceberg\")\n",
    "\n",
    "spark.stop()"
   ],
   "id": "49c3aa69395cdf9a",
   "outputs": [
    {
     "name": "stdout",
     "output_type": "stream",
     "text": [
      "Spark Running\n"
     ]
    },
    {
     "name": "stderr",
     "output_type": "stream",
     "text": [
      "                                                                                \r"
     ]
    },
    {
     "name": "stdout",
     "output_type": "stream",
     "text": [
      "+----------+-----------+------------------+----------+--------------------+----------+--------------------+------------------+----------------+--------+---------+----------+\n",
      "|Unnamed: 0|Employee_ID|         Full_Name|Department|           Job_Title| Hire_Date|            Location|Performance_Rating|Experience_Years|  Status|Work_Mode|Salary_INR|\n",
      "+----------+-----------+------------------+----------+--------------------+----------+--------------------+------------------+----------------+--------+---------+----------+\n",
      "|   1527870| EMP1527871|       Dana Larsen|Operations|Operations Executive|2018-01-14|Port Elizabeth, S...|                 1|               7|  Active|   Remote|    883069|\n",
      "|   1527871| EMP1527872|         Lisa Wood|        IT|     DevOps Engineer|2024-08-03|Kathleentown, Col...|                 1|               1|Resigned|  On-site|    710109|\n",
      "|   1527872| EMP1527873|  Madeline Johnson|     Sales|Business Developm...|2024-03-11|Lake Andrewbury, ...|                 3|               1|  Active|  On-site|   1759035|\n",
      "|   1527873| EMP1527874|      Michael Paul|   Finance|   Financial Analyst|2016-03-04|Kaylamouth, Briti...|                 5|               9|Resigned|  On-site|    709189|\n",
      "|   1527874| EMP1527875|       Pamela Wise|        IT|   Software Engineer|2021-11-29| Port Richard, China|                 4|               3|  Active|  On-site|   1095537|\n",
      "|   1527875| EMP1527876|     David Jackson|        IT|   Software Engineer|2017-07-13|North Brianfurt, ...|                 4|               8|  Active|  On-site|   1245685|\n",
      "|   1527876| EMP1527877|       Lydia Clark|Operations|Operations Executive|2023-02-02|North Alexanderbo...|                 4|               2|  Active|  On-site|    831155|\n",
      "|   1527877| EMP1527878|  Andrew Rodriguez|        IT|   Software Engineer|2021-07-28| New Diana, Dominica|                 1|               4|  Active|  On-site|   1553202|\n",
      "|   1527878| EMP1527879|      Robert Green|   Finance|     Finance Manager|2016-10-08|West Kelsey, Finland|                 3|               8|  Active|   Remote|   1082199|\n",
      "|   1527879| EMP1527880|   Robert Mccarthy|     Sales|     Sales Executive|2017-10-30|  Angelabury, Latvia|                 4|               7|  Active|  On-site|    816476|\n",
      "|   1527880| EMP1527881|Mr. Donald Mendoza| Marketing| Marketing Executive|2024-10-26|  Coltonshire, Nepal|                 3|               0|  Active|  On-site|    557862|\n",
      "|   1527881| EMP1527882|   Danielle Bryant|     Sales|     Sales Executive|2021-05-04|  Smithburgh, Cyprus|                 1|               4|  Active|   Remote|    401600|\n",
      "|   1527882| EMP1527883|    Heather Hoover|        IT|        Data Analyst|2019-02-28|      Dayshire, Iraq|                 4|               6|  Active|   Remote|    521141|\n",
      "|   1527883| EMP1527884|        Mark Myers|       R&D|   Product Developer|2016-09-22|Williamville, Swi...|                 5|               8|Resigned|  On-site|    992277|\n",
      "|   1527884| EMP1527885|     Daniel Walker|        IT|     DevOps Engineer|2025-06-16|North Joyceside, ...|                 1|               0|Resigned|  On-site|    563173|\n",
      "|   1527885| EMP1527886|  Sheila Ortega MD|       R&D|  Research Scientist|2017-02-24|Port Roberthaven,...|                 2|               8|  Active|   Remote|    889853|\n",
      "|   1527886| EMP1527887|  Jennifer Sanders|     Sales|Business Developm...|2023-05-07|New Juliestad, Italy|                 3|               2|  Active|   Remote|   1581442|\n",
      "|   1527887| EMP1527888|       David Smith| Marketing| Marketing Executive|2014-12-17| Vancemouth, Romania|                 2|              10|Resigned|  On-site|    971095|\n",
      "|   1527888| EMP1527889|      Karen Zuniga|        HR|Talent Acquisitio...|2018-08-02|Richardsonshire, ...|                 4|               7|  Active|   Remote|    579331|\n",
      "|   1527889| EMP1527890|    Rachel Barnett|        IT|   Software Engineer|2015-10-19|East Alexis, Guer...|                 1|               9|  Active|   Remote|    767757|\n",
      "+----------+-----------+------------------+----------+--------------------+----------+--------------------+------------------+----------------+--------+---------+----------+\n",
      "only showing top 20 rows\n",
      "\n"
     ]
    },
    {
     "name": "stderr",
     "output_type": "stream",
     "text": [
      "25/08/27 19:16:05 WARN TaskMemoryManager: Failed to allocate a page (33554432 bytes), try again.\n",
      "25/08/27 19:16:06 WARN TaskMemoryManager: Failed to allocate a page (33554432 bytes), try again.\n",
      "25/08/27 19:16:07 WARN TaskMemoryManager: Failed to allocate a page (33554432 bytes), try again.\n",
      "25/08/27 19:16:08 WARN TaskMemoryManager: Failed to allocate a page (33554432 bytes), try again.\n",
      "25/08/27 19:16:09 WARN TaskMemoryManager: Failed to allocate a page (33554432 bytes), try again.\n",
      "25/08/27 19:16:10 WARN TaskMemoryManager: Failed to allocate a page (33554432 bytes), try again.\n",
      "25/08/27 19:16:10 WARN TaskMemoryManager: Failed to allocate a page (33554432 bytes), try again.\n",
      "25/08/27 19:16:11 WARN TaskMemoryManager: Failed to allocate a page (33554432 bytes), try again.\n",
      "25/08/27 19:16:12 WARN TaskMemoryManager: Failed to allocate a page (33554432 bytes), try again.\n",
      "25/08/27 19:16:14 WARN TaskMemoryManager: Failed to allocate a page (33554432 bytes), try again.\n",
      "25/08/27 19:16:14 WARN TaskMemoryManager: Failed to allocate a page (33554432 bytes), try again.\n",
      "25/08/27 19:16:16 WARN TaskMemoryManager: Failed to allocate a page (33554432 bytes), try again.\n",
      "25/08/27 19:16:17 WARN TaskMemoryManager: Failed to allocate a page (33554432 bytes), try again.\n",
      "25/08/27 19:16:17 WARN TaskMemoryManager: Failed to allocate a page (33554432 bytes), try again.\n",
      "25/08/27 19:16:18 WARN TaskMemoryManager: Failed to allocate a page (33554432 bytes), try again.\n",
      "25/08/27 19:16:19 WARN TaskMemoryManager: Failed to allocate a page (33554432 bytes), try again.\n",
      "25/08/27 19:16:20 WARN TaskMemoryManager: Failed to allocate a page (33554432 bytes), try again.\n",
      "25/08/27 19:16:21 WARN TaskMemoryManager: Failed to allocate a page (33554432 bytes), try again.\n",
      "25/08/27 19:16:22 WARN TaskMemoryManager: Failed to allocate a page (33554432 bytes), try again.\n",
      "25/08/27 19:16:23 WARN TaskMemoryManager: Failed to allocate a page (33554432 bytes), try again.\n",
      "25/08/27 19:16:24 WARN TaskMemoryManager: Failed to allocate a page (33554432 bytes), try again.\n",
      "25/08/27 19:16:25 WARN TaskMemoryManager: Failed to allocate a page (33554432 bytes), try again.\n",
      "25/08/27 19:16:26 WARN TaskMemoryManager: Failed to allocate a page (33554432 bytes), try again.\n",
      "25/08/27 19:16:27 WARN TaskMemoryManager: Failed to allocate a page (33554432 bytes), try again.\n",
      "25/08/27 19:16:28 WARN TaskMemoryManager: Failed to allocate a page (33554432 bytes), try again.\n",
      "25/08/27 19:16:29 WARN TaskMemoryManager: Failed to allocate a page (33554432 bytes), try again.\n",
      "25/08/27 19:16:30 WARN TaskMemoryManager: Failed to allocate a page (33554432 bytes), try again.\n",
      "SLF4J: Failed to load class \"org.slf4j.impl.StaticLoggerBinder\".\n",
      "SLF4J: Defaulting to no-operation (NOP) logger implementation\n",
      "SLF4J: See http://www.slf4j.org/codes.html#StaticLoggerBinder for further details.\n",
      "                                                                                \r"
     ]
    },
    {
     "name": "stdout",
     "output_type": "stream",
     "text": [
      "+----------+-----------+--------------------+----------+--------------------+----------+--------------------+------------------+----------------+----------+---------+----------+\n",
      "|Unnamed: 0|Employee_ID|           Full_Name|Department|           Job_Title| Hire_Date|            Location|Performance_Rating|Experience_Years|    Status|Work_Mode|Salary_INR|\n",
      "+----------+-----------+--------------------+----------+--------------------+----------+--------------------+------------------+----------------+----------+---------+----------+\n",
      "|   1750498| EMP1750499|        Cindy Hudson|        IT|   Software Engineer|2011-11-13|South Ronaldton, ...|                 5|              13|  Resigned|  On-site|    831281|\n",
      "|   1571875| EMP1571876|        Dennis Black|     Sales|     Account Manager|2011-02-21|Hollandbury, Micr...|                 5|              14|    Active|  On-site|    415567|\n",
      "|   1300693| EMP1300694|      Alexander Hill|     Sales|     Sales Executive|2019-05-12|Lake Cherylmouth,...|                 1|               6|    Active|   Remote|    857351|\n",
      "|   1533024| EMP1533025|       Craig Mcclain|        HR|        HR Executive|2022-09-28|  Lake Rachel, Samoa|                 5|               2|Terminated|  On-site|    337451|\n",
      "|   1512021| EMP1512022|   Mrs. Brenda Brown|     Sales|Business Developm...|2020-05-24|South Deborah, Palau|                 2|               5|    Active|  On-site|   1523594|\n",
      "|   1763940| EMP1763941|    Tamara Rodriguez|        IT|                 CTO|2017-01-23|Ellistown, Saint ...|                 4|               8|    Active|  On-site|    543944|\n",
      "|   1608155| EMP1608156|Frederick Simpson...|     Sales|     Sales Executive|2023-06-25|North Lindsay, Ug...|                 1|               2|    Active|  On-site|    836652|\n",
      "|   1776967| EMP1776968|       Michael Dixon| Marketing| Marketing Executive|2022-02-26| Scotthaven, Myanmar|                 1|               3|    Active|  On-site|    408165|\n",
      "|    417397| EMP0417398|       Andrew Kelley|        IT|          IT Manager|2022-04-07|   Port Luke, Greece|                 1|               3|    Active|  On-site|   1405218|\n",
      "|   1270830| EMP1270831|         Jessica Lee|        IT|   Software Engineer|2017-10-01| South Sherri, Congo|                 1|               7|  Resigned|  On-site|   1764255|\n",
      "|    715462| EMP0715463|      Adam Dominguez|   Finance|     Finance Manager|2020-07-07|Port Loriburgh, D...|                 2|               5|    Active|  On-site|   1053574|\n",
      "|    615459| EMP0615460|      Carolyn Martin|     Sales|     Account Manager|2023-06-30|South David, Bots...|                 1|               2|    Active|  On-site|    876230|\n",
      "|    623788| EMP0623789|    Angela Rodriguez|        HR|        HR Executive|2021-08-20|East Keith, Luxem...|                 3|               3|    Active|   Remote|    525458|\n",
      "|   1014977| EMP1014978|          Blake Hunt|     Sales|      Sales Director|2022-04-01|Watsonshire, Mont...|                 3|               3|    Active|  On-site|   1076854|\n",
      "|    390957| EMP0390958|          Eric Ellis| Marketing| Marketing Executive|2015-12-30|Darrylmouth, Georgia|                 4|               9|    Active|  On-site|    567535|\n",
      "|   1668930| EMP1668931|        David Torres| Marketing|      SEO Specialist|2023-07-20|Lake Katherine, F...|                 3|               2|    Active|  On-site|    942704|\n",
      "|   1556582| EMP1556583|      Cristian Banks| Marketing| Marketing Executive|2020-09-28|North Jeffside, A...|                 5|               4|    Active|   Remote|    805870|\n",
      "|     60981| EMP0060982|     David Gutierrez|       R&D|  Research Scientist|2020-04-30|New Anthonybury, ...|                 4|               5|  Resigned|  On-site|    530555|\n",
      "|    204261| EMP0204262|        Jeffrey King|   Finance|          Accountant|2020-12-16|   Grayland, Namibia|                 4|               4|   Retired|  On-site|    472497|\n",
      "|   1206452| EMP1206453|         Kayla Wyatt|Operations|Operations Executive|2024-12-20|Donnaville, Guate...|                 5|               0|    Active|  On-site|    754609|\n",
      "+----------+-----------+--------------------+----------+--------------------+----------+--------------------+------------------+----------------+----------+---------+----------+\n",
      "only showing top 20 rows\n",
      "\n",
      "Ingested data successfully into Iceberg\n"
     ]
    }
   ],
   "execution_count": 3
  }
 ],
 "metadata": {
  "kernelspec": {
   "display_name": "Python 3 (ipykernel)",
   "language": "python",
   "name": "python3"
  },
  "language_info": {
   "codemirror_mode": {
    "name": "ipython",
    "version": 2
   },
   "file_extension": ".py",
   "mimetype": "text/x-python",
   "name": "python",
   "nbconvert_exporter": "python",
   "pygments_lexer": "ipython2",
   "version": "2.7.6"
  }
 },
 "nbformat": 4,
 "nbformat_minor": 5
}
