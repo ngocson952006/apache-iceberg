{
 "cells": [
  {
   "metadata": {},
   "cell_type": "markdown",
   "source": "Ingestion data to Iceberg using Pyspark",
   "id": "1cd389d03faebe8d"
  },
  {
   "metadata": {
    "ExecuteTime": {
     "end_time": "2025-08-27T04:10:01.111298Z",
     "start_time": "2025-08-27T04:09:59.439836Z"
    }
   },
   "cell_type": "code",
   "source": [
    "import subprocess\n",
    "\n",
    "\n",
    "# Function to install Maven (Linux/macOS only; Windows users must install manually)\n",
    "def install_maven():\n",
    "    try:\n",
    "        # Check if Maven is already installed\n",
    "        subprocess.run([\"mvn\", \"-version\"], check=True, stdout=subprocess.PIPE, stderr=subprocess.PIPE)\n",
    "        print(\"Maven is already installed.\")\n",
    "    except FileNotFoundError:\n",
    "        print(\"Maven not found. Installing Maven...\")\n",
    "        subprocess.run([\"apt\", \"update\"], check=True)\n",
    "        subprocess.run([\"apt\", \"install\", \"-y\", \"maven\"], check=True)  # For Linux (apt)\n",
    "        print(\"Maven installed successfully.\")\n",
    "\n",
    "\n",
    "# Function to download a specific JAR using Maven\n",
    "def download_jar(group_id, artifact_id, version):\n",
    "    try:\n",
    "        print(f\"Downloading JAR: {group_id}:{artifact_id}:{version}\")\n",
    "        subprocess.run([\n",
    "            \"mvn\", \"dependency:copy\",\n",
    "            f\"-Dartifact={group_id}:{artifact_id}:{version}\"\n",
    "        ], check=True)\n",
    "        print(f\"JAR downloaded successfully\")\n",
    "    except subprocess.CalledProcessError as e:\n",
    "        print(f\"Failed to download JAR: {e}\")\n",
    "\n",
    "\n",
    "# Ensure Maven is installed\n",
    "install_maven()\n",
    "# Download required JAR(s)\n",
    "download_jar(\"org.slf4j\", \"slf4j-api\", \"1.7.30\")\n"
   ],
   "id": "a18a847b5c6738dc",
   "outputs": [
    {
     "name": "stdout",
     "output_type": "stream",
     "text": [
      "Maven is already installed.\n",
      "Downloading JAR: org.slf4j:slf4j-api:1.7.30\n",
      "[INFO] Scanning for projects...\n",
      "[INFO] \n",
      "[INFO] ------------------< org.apache.maven:standalone-pom >-------------------\n",
      "[INFO] Building Maven Stub Project (No POM) 1\n",
      "[INFO] --------------------------------[ pom ]---------------------------------\n",
      "[INFO] \n",
      "[INFO] --- dependency:3.7.0:copy (default-cli) @ standalone-pom ---\n",
      "[INFO] Configured Artifact: org.slf4j:slf4j-api:1.7.30:jar\n",
      "[INFO] org.slf4j:slf4j-api:1.7.30:jar already exists in /Users/truongngocson/Documents/Projects/apache-iceberg/notebooks/${project.basedir}/target/dependency\n",
      "[INFO] ------------------------------------------------------------------------\n",
      "[INFO] BUILD SUCCESS\n",
      "[INFO] ------------------------------------------------------------------------\n",
      "[INFO] Total time:  0.471 s\n",
      "[INFO] Finished at: 2025-08-27T11:10:01+07:00\n",
      "[INFO] ------------------------------------------------------------------------\n",
      "JAR downloaded successfully\n"
     ]
    }
   ],
   "execution_count": 1
  },
  {
   "metadata": {},
   "cell_type": "markdown",
   "source": "Start the ingestion",
   "id": "4d6e448c40654e2e"
  },
  {
   "metadata": {
    "collapsed": true,
    "ExecuteTime": {
     "end_time": "2025-08-27T04:10:05.232742Z",
     "start_time": "2025-08-27T04:10:01.115906Z"
    }
   },
   "cell_type": "code",
   "source": [
    "import pyspark\n",
    "import os\n",
    "from pyspark.sql import SparkSession\n",
    "\n",
    "## DEFINE VARIABLES\n",
    "catalog_uri = os.getenv('CATALOG_URI', \"http://localhost:19120/api/v1\")\n",
    "warehouse = \"s3://warehouse/\"\n",
    "storage_uri = os.getenv('STORAGE_URI', \"http://127.0.0.1:9000\")\n",
    "# Define the JDBC connection properties\n",
    "jdbc_url = os.getenv('JDBC_URL', \"jdbc:postgresql://localhost:5435/mydb\")\n",
    "properties = {\n",
    "    \"user\": \"myuser\",\n",
    "    \"password\": \"mypassword\",\n",
    "    \"driver\": \"org.postgresql.Driver\"\n",
    "}\n",
    "local_jars = ','.join([\n",
    "    'slf4j-api-1.7.30.jar'\n",
    "])\n",
    "\n",
    "## CONFIGURE SPARK SESSION\n",
    "conf = (\n",
    "    pyspark.SparkConf()\n",
    "    .setAppName('Iceberg Ingestion')\n",
    "    .set('spark.jars.packages',\n",
    "         'org.postgresql:postgresql:42.7.3,'\n",
    "         'org.apache.iceberg:iceberg-spark-runtime-3.5_2.12:1.5.0,'\n",
    "         'org.projectnessie.nessie-integrations:nessie-spark-extensions-3.5_2.12:0.77.1,'\n",
    "         'software.amazon.awssdk:bundle:2.24.8,'\n",
    "         'software.amazon.awssdk:url-connection-client:2.24.8')\n",
    "    .set('spark.sql.extensions',\n",
    "         'org.apache.iceberg.spark.extensions.IcebergSparkSessionExtensions,'\n",
    "         'org.projectnessie.spark.extensions.NessieSparkSessionExtensions')\n",
    "    .set('spark.sql.catalog.nessie', 'org.apache.iceberg.spark.SparkCatalog')\n",
    "    .set('spark.sql.catalog.nessie.uri', catalog_uri)\n",
    "    .set('spark.sql.catalog.nessie.ref', 'main')\n",
    "    .set('spark.sql.catalog.nessie.authentication.type', 'NONE')\n",
    "    .set('spark.sql.catalog.nessie.catalog-impl', 'org.apache.iceberg.nessie.NessieCatalog')\n",
    "    .set('spark.sql.catalog.nessie.s3.endpoint', storage_uri)\n",
    "    .set('spark.sql.catalog.nessie.warehouse', warehouse)\n",
    "    .set('spark.sql.catalog.nessie.io-impl', 'org.apache.iceberg.aws.s3.S3FileIO')\n",
    "    .set(\"spark.driver.memory\", \"2g\")\n",
    "    .set(\"spark.executor.memory\", \"2g\")\n",
    "    .set(\"spark.sql.shuffle.partitions\", \"64\")\n",
    "    .set(\"spark.sql.catalog.nessie.write.target-file-size-bytes\", str(128 * 1024 * 1024))\n",
    ")\n",
    "\n",
    "## START SPARK SESSION\n",
    "spark = SparkSession.builder.config(conf=conf).getOrCreate()"
   ],
   "id": "1e70702bd85a8fef",
   "outputs": [
    {
     "name": "stderr",
     "output_type": "stream",
     "text": [
      "25/08/27 11:10:01 WARN Utils: Your hostname, MacBook-Air-cua-Ngoc-2.local resolves to a loopback address: 127.0.0.1; using 192.168.1.5 instead (on interface en0)\n",
      "25/08/27 11:10:01 WARN Utils: Set SPARK_LOCAL_IP if you need to bind to another address\n",
      "Ivy Default Cache set to: /Users/truongngocson/.ivy2/cache\n",
      "The jars for the packages stored in: /Users/truongngocson/.ivy2/jars\n",
      "org.postgresql#postgresql added as a dependency\n",
      "org.apache.iceberg#iceberg-spark-runtime-3.5_2.12 added as a dependency\n",
      "org.projectnessie.nessie-integrations#nessie-spark-extensions-3.5_2.12 added as a dependency\n",
      "software.amazon.awssdk#bundle added as a dependency\n",
      "software.amazon.awssdk#url-connection-client added as a dependency\n",
      ":: resolving dependencies :: org.apache.spark#spark-submit-parent-077232b4-d396-4fee-b3e1-f5d833b0e739;1.0\n",
      "\tconfs: [default]\n",
      "\tfound org.postgresql#postgresql;42.7.3 in central\n",
      "\tfound org.checkerframework#checker-qual;3.42.0 in local-m2-cache\n",
      "\tfound org.apache.iceberg#iceberg-spark-runtime-3.5_2.12;1.5.0 in central\n",
      "\tfound org.projectnessie.nessie-integrations#nessie-spark-extensions-3.5_2.12;0.77.1 in central\n",
      "\tfound software.amazon.awssdk#bundle;2.24.8 in central\n"
     ]
    },
    {
     "name": "stdout",
     "output_type": "stream",
     "text": [
      ":: loading settings :: url = jar:file:/Users/truongngocson/Documents/Projects/apache-iceberg/.venv/lib/python3.12/site-packages/pyspark/jars/ivy-2.5.1.jar!/org/apache/ivy/core/settings/ivysettings.xml\n"
     ]
    },
    {
     "name": "stderr",
     "output_type": "stream",
     "text": [
      "\tfound software.amazon.awssdk#url-connection-client;2.24.8 in central\n",
      "\tfound software.amazon.awssdk#utils;2.24.8 in central\n",
      "\tfound org.reactivestreams#reactive-streams;1.0.4 in local-m2-cache\n",
      "\tfound software.amazon.awssdk#annotations;2.24.8 in central\n",
      "\tfound org.slf4j#slf4j-api;1.7.30 in local-m2-cache\n",
      "\tfound software.amazon.awssdk#http-client-spi;2.24.8 in central\n",
      "\tfound software.amazon.awssdk#metrics-spi;2.24.8 in central\n",
      ":: resolution report :: resolve 155ms :: artifacts dl 8ms\n",
      "\t:: modules in use:\n",
      "\torg.apache.iceberg#iceberg-spark-runtime-3.5_2.12;1.5.0 from central in [default]\n",
      "\torg.checkerframework#checker-qual;3.42.0 from local-m2-cache in [default]\n",
      "\torg.postgresql#postgresql;42.7.3 from central in [default]\n",
      "\torg.projectnessie.nessie-integrations#nessie-spark-extensions-3.5_2.12;0.77.1 from central in [default]\n",
      "\torg.reactivestreams#reactive-streams;1.0.4 from local-m2-cache in [default]\n",
      "\torg.slf4j#slf4j-api;1.7.30 from local-m2-cache in [default]\n",
      "\tsoftware.amazon.awssdk#annotations;2.24.8 from central in [default]\n",
      "\tsoftware.amazon.awssdk#bundle;2.24.8 from central in [default]\n",
      "\tsoftware.amazon.awssdk#http-client-spi;2.24.8 from central in [default]\n",
      "\tsoftware.amazon.awssdk#metrics-spi;2.24.8 from central in [default]\n",
      "\tsoftware.amazon.awssdk#url-connection-client;2.24.8 from central in [default]\n",
      "\tsoftware.amazon.awssdk#utils;2.24.8 from central in [default]\n",
      "\t---------------------------------------------------------------------\n",
      "\t|                  |            modules            ||   artifacts   |\n",
      "\t|       conf       | number| search|dwnlded|evicted|| number|dwnlded|\n",
      "\t---------------------------------------------------------------------\n",
      "\t|      default     |   12  |   0   |   0   |   0   ||   12  |   0   |\n",
      "\t---------------------------------------------------------------------\n",
      ":: retrieving :: org.apache.spark#spark-submit-parent-077232b4-d396-4fee-b3e1-f5d833b0e739\n",
      "\tconfs: [default]\n",
      "\t0 artifacts copied, 12 already retrieved (0kB/4ms)\n",
      "25/08/27 11:10:02 WARN NativeCodeLoader: Unable to load native-hadoop library for your platform... using builtin-java classes where applicable\n",
      "Setting default log level to \"WARN\".\n",
      "To adjust logging level use sc.setLogLevel(newLevel). For SparkR, use setLogLevel(newLevel).\n"
     ]
    }
   ],
   "execution_count": 2
  },
  {
   "metadata": {
    "ExecuteTime": {
     "end_time": "2025-08-27T04:13:27.688278Z",
     "start_time": "2025-08-27T04:10:05.352258Z"
    }
   },
   "cell_type": "code",
   "source": [
    "print(\"Spark Running\")\n",
    "spark.catalog.clearCache()\n",
    "\n",
    "# Read the sales_data table from Postgres into a Spark DataFrame\n",
    "sales_df = spark.read.jdbc(url=jdbc_url, table=\"hr_data\", properties=properties)\n",
    "\n",
    "# Show the first few rows of the dataset\n",
    "sales_df.show()\n",
    "# Control number of parallel output writers explicitly\n",
    "sales_df = sales_df.repartition(8)\n",
    "\n",
    "\n",
    "#Create a namespace\n",
    "spark.sql(\"CREATE NAMESPACE IF NOT EXISTS nessie.hr;\")\n",
    "\n",
    "# Write the DataFrame to an Iceberg table in the Nessie catalog\n",
    "sales_df.writeTo(\"nessie.hr.hr_data\").createOrReplace()\n",
    "\n",
    "# Verify that the data was written to Iceberg by reading the table\n",
    "spark.read.table(\"nessie.hr.hr_data\").show()\n",
    "\n",
    "print(\"Ingested data successfully into Iceberg\")\n",
    "\n",
    "spark.stop()"
   ],
   "id": "49c3aa69395cdf9a",
   "outputs": [
    {
     "name": "stdout",
     "output_type": "stream",
     "text": [
      "Spark Running\n"
     ]
    },
    {
     "name": "stderr",
     "output_type": "stream",
     "text": [
      "                                                                                \r"
     ]
    },
    {
     "name": "stdout",
     "output_type": "stream",
     "text": [
      "+----------+-----------+--------------------+----------+--------------------+----------+--------------------+------------------+----------------+--------+---------+----------+\n",
      "|Unnamed: 0|Employee_ID|           Full_Name|Department|           Job_Title| Hire_Date|            Location|Performance_Rating|Experience_Years|  Status|Work_Mode|Salary_INR|\n",
      "+----------+-----------+--------------------+----------+--------------------+----------+--------------------+------------------+----------------+--------+---------+----------+\n",
      "|   1021851| EMP1021852|Christopher Martinez|Operations|Logistics Coordin...|2024-01-16|Lake Kathleen, Fr...|                 3|               1|  Active|   Remote|    793553|\n",
      "|   1021852| EMP1021853|        John Jenkins|        HR|Talent Acquisitio...|2025-04-19|East Mariastad, P...|                 1|               0|  Active|   Remote|   1162338|\n",
      "|   1021853| EMP1021854|      Donna Williams|Operations|Operations Executive|2020-08-09|South Audrey, Sur...|                 5|               5|  Active|  On-site|   1051530|\n",
      "|   1021854| EMP1021855|     Stephanie Jones| Marketing|       Brand Manager|2013-01-19|   Jessicaview, Niue|                 1|              12| Retired|   Remote|    723659|\n",
      "|   1021855| EMP1021856|      Jeffrey Conner| Marketing|       Brand Manager|2018-10-08|Karenfort, Gibraltar|                 2|               6|  Active|   Remote|    724794|\n",
      "|   1021856| EMP1021857|      Charles Newman|        IT|     DevOps Engineer|2023-04-12|Martinezport, Hun...|                 5|               2|Resigned|  On-site|    720619|\n",
      "|   1021857| EMP1021858|         Karen James|     Sales|     Sales Executive|2016-12-14|Port Jacqueline, ...|                 4|               8|  Active|  On-site|    780427|\n",
      "|   1021858| EMP1021859|        Karen Nelson|        IT|   Software Engineer|2017-08-16|East Lisa, Uzbeki...|                 5|               8|Resigned|  On-site|    897558|\n",
      "|   1021859| EMP1021860|       David Stewart|Operations|Logistics Coordin...|2022-08-04|Lake Matthew, Mon...|                 5|               3|  Active|  On-site|    763691|\n",
      "|   1021860| EMP1021861|        Joel Parrish|Operations|Logistics Coordin...|2016-11-06|  Michaelfort, Haiti|                 4|               8|  Active|  On-site|    734635|\n",
      "|   1021861| EMP1021862|       Felicia Lewis|        HR|        HR Executive|2020-12-05| Nicolefurt, Iceland|                 2|               4|Resigned|  On-site|    405184|\n",
      "|   1021862| EMP1021863|       Michael Myers|        IT|        Data Analyst|2023-03-04|Jacksonchester, P...|                 5|               2|  Active|   Remote|    891693|\n",
      "|   1021863| EMP1021864|         Anna Larson|        IT|   Software Engineer|2012-10-17|   Jillstad, Belgium|                 2|              12|  Active|   Remote|   1764437|\n",
      "|   1021864| EMP1021865|     Marcus Holloway|        IT|          IT Manager|2020-04-25| Abigailhaven, Japan|                 2|               5|  Active|  On-site|   1278161|\n",
      "|   1021865| EMP1021866|    Michael Valencia|        HR|        HR Executive|2022-01-05|Thomaston, Nether...|                 5|               3|  Active|   Remote|    579840|\n",
      "|   1021866| EMP1021867|         Emily Clark|     Sales|     Sales Executive|2016-02-22|Ashleyport, Mauri...|                 4|               9|Resigned|  On-site|    523124|\n",
      "|   1021867| EMP1021868|        Kelly Flores|Operations|Operations Executive|2022-06-26| Timothytown, Monaco|                 2|               3|  Active|  On-site|    700187|\n",
      "|   1021868| EMP1021869|     Jessica Johnson|        IT|   Software Engineer|2017-08-06|Marshallport, Kyr...|                 1|               8|  Active|  On-site|   1421893|\n",
      "|   1021869| EMP1021870|       Jacob Edwards|     Sales|     Account Manager|2020-02-20|West Christy, Turkey|                 1|               5|  Active|   Remote|    873485|\n",
      "|   1021870| EMP1021871|           Dawn Hill|     Sales|     Sales Executive|2022-08-21|Antonioland, Senegal|                 5|               2|  Active|  On-site|    408297|\n",
      "+----------+-----------+--------------------+----------+--------------------+----------+--------------------+------------------+----------------+--------+---------+----------+\n",
      "only showing top 20 rows\n",
      "\n"
     ]
    },
    {
     "name": "stderr",
     "output_type": "stream",
     "text": [
      "25/08/27 11:12:25 WARN TaskMemoryManager: Failed to allocate a page (33554432 bytes), try again.\n",
      "25/08/27 11:12:26 WARN TaskMemoryManager: Failed to allocate a page (33554432 bytes), try again.\n",
      "25/08/27 11:12:27 WARN TaskMemoryManager: Failed to allocate a page (33554432 bytes), try again.\n",
      "25/08/27 11:12:28 WARN TaskMemoryManager: Failed to allocate a page (33554432 bytes), try again.\n",
      "25/08/27 11:12:29 WARN TaskMemoryManager: Failed to allocate a page (33554432 bytes), try again.\n",
      "25/08/27 11:12:30 WARN TaskMemoryManager: Failed to allocate a page (33554432 bytes), try again.\n",
      "25/08/27 11:12:32 WARN TaskMemoryManager: Failed to allocate a page (33554432 bytes), try again.\n",
      "25/08/27 11:12:33 WARN TaskMemoryManager: Failed to allocate a page (33554432 bytes), try again.\n",
      "25/08/27 11:12:34 WARN TaskMemoryManager: Failed to allocate a page (33554432 bytes), try again.\n",
      "25/08/27 11:12:35 WARN TaskMemoryManager: Failed to allocate a page (33554432 bytes), try again.\n",
      "25/08/27 11:12:36 WARN TaskMemoryManager: Failed to allocate a page (33554432 bytes), try again.\n",
      "25/08/27 11:12:36 WARN TaskMemoryManager: Failed to allocate a page (33554432 bytes), try again.\n",
      "25/08/27 11:12:37 WARN TaskMemoryManager: Failed to allocate a page (33554432 bytes), try again.\n",
      "25/08/27 11:12:38 WARN TaskMemoryManager: Failed to allocate a page (33554432 bytes), try again.\n",
      "25/08/27 11:12:39 WARN TaskMemoryManager: Failed to allocate a page (33554432 bytes), try again.\n",
      "25/08/27 11:12:40 WARN TaskMemoryManager: Failed to allocate a page (33554432 bytes), try again.\n",
      "25/08/27 11:12:41 WARN TaskMemoryManager: Failed to allocate a page (33554432 bytes), try again.\n",
      "25/08/27 11:12:42 WARN TaskMemoryManager: Failed to allocate a page (33554432 bytes), try again.\n",
      "25/08/27 11:12:43 WARN TaskMemoryManager: Failed to allocate a page (33554432 bytes), try again.\n",
      "25/08/27 11:12:44 WARN TaskMemoryManager: Failed to allocate a page (33554432 bytes), try again.\n",
      "25/08/27 11:12:45 WARN TaskMemoryManager: Failed to allocate a page (33554432 bytes), try again.\n",
      "25/08/27 11:12:46 WARN TaskMemoryManager: Failed to allocate a page (33554432 bytes), try again.\n",
      "25/08/27 11:12:47 WARN TaskMemoryManager: Failed to allocate a page (33554432 bytes), try again.\n",
      "25/08/27 11:12:48 WARN TaskMemoryManager: Failed to allocate a page (33554432 bytes), try again.\n",
      "25/08/27 11:12:49 WARN TaskMemoryManager: Failed to allocate a page (33554432 bytes), try again.\n",
      "25/08/27 11:12:50 WARN TaskMemoryManager: Failed to allocate a page (33554432 bytes), try again.\n",
      "25/08/27 11:12:51 WARN TaskMemoryManager: Failed to allocate a page (33554432 bytes), try again.\n",
      "SLF4J: Failed to load class \"org.slf4j.impl.StaticLoggerBinder\".\n",
      "SLF4J: Defaulting to no-operation (NOP) logger implementation\n",
      "SLF4J: See http://www.slf4j.org/codes.html#StaticLoggerBinder for further details.\n",
      "                                                                                \r"
     ]
    },
    {
     "name": "stdout",
     "output_type": "stream",
     "text": [
      "+----------+-----------+--------------------+----------+--------------------+----------+--------------------+------------------+----------------+----------+---------+----------+\n",
      "|Unnamed: 0|Employee_ID|           Full_Name|Department|           Job_Title| Hire_Date|            Location|Performance_Rating|Experience_Years|    Status|Work_Mode|Salary_INR|\n",
      "+----------+-----------+--------------------+----------+--------------------+----------+--------------------+------------------+----------------+----------+---------+----------+\n",
      "|   1750498| EMP1750499|        Cindy Hudson|        IT|   Software Engineer|2011-11-13|South Ronaldton, ...|                 5|              13|  Resigned|  On-site|    831281|\n",
      "|   1571875| EMP1571876|        Dennis Black|     Sales|     Account Manager|2011-02-21|Hollandbury, Micr...|                 5|              14|    Active|  On-site|    415567|\n",
      "|   1300693| EMP1300694|      Alexander Hill|     Sales|     Sales Executive|2019-05-12|Lake Cherylmouth,...|                 1|               6|    Active|   Remote|    857351|\n",
      "|   1533024| EMP1533025|       Craig Mcclain|        HR|        HR Executive|2022-09-28|  Lake Rachel, Samoa|                 5|               2|Terminated|  On-site|    337451|\n",
      "|   1512021| EMP1512022|   Mrs. Brenda Brown|     Sales|Business Developm...|2020-05-24|South Deborah, Palau|                 2|               5|    Active|  On-site|   1523594|\n",
      "|   1763940| EMP1763941|    Tamara Rodriguez|        IT|                 CTO|2017-01-23|Ellistown, Saint ...|                 4|               8|    Active|  On-site|    543944|\n",
      "|   1608155| EMP1608156|Frederick Simpson...|     Sales|     Sales Executive|2023-06-25|North Lindsay, Ug...|                 1|               2|    Active|  On-site|    836652|\n",
      "|   1776967| EMP1776968|       Michael Dixon| Marketing| Marketing Executive|2022-02-26| Scotthaven, Myanmar|                 1|               3|    Active|  On-site|    408165|\n",
      "|    417397| EMP0417398|       Andrew Kelley|        IT|          IT Manager|2022-04-07|   Port Luke, Greece|                 1|               3|    Active|  On-site|   1405218|\n",
      "|   1270830| EMP1270831|         Jessica Lee|        IT|   Software Engineer|2017-10-01| South Sherri, Congo|                 1|               7|  Resigned|  On-site|   1764255|\n",
      "|    715462| EMP0715463|      Adam Dominguez|   Finance|     Finance Manager|2020-07-07|Port Loriburgh, D...|                 2|               5|    Active|  On-site|   1053574|\n",
      "|    615459| EMP0615460|      Carolyn Martin|     Sales|     Account Manager|2023-06-30|South David, Bots...|                 1|               2|    Active|  On-site|    876230|\n",
      "|    623788| EMP0623789|    Angela Rodriguez|        HR|        HR Executive|2021-08-20|East Keith, Luxem...|                 3|               3|    Active|   Remote|    525458|\n",
      "|   1014977| EMP1014978|          Blake Hunt|     Sales|      Sales Director|2022-04-01|Watsonshire, Mont...|                 3|               3|    Active|  On-site|   1076854|\n",
      "|    390957| EMP0390958|          Eric Ellis| Marketing| Marketing Executive|2015-12-30|Darrylmouth, Georgia|                 4|               9|    Active|  On-site|    567535|\n",
      "|   1668930| EMP1668931|        David Torres| Marketing|      SEO Specialist|2023-07-20|Lake Katherine, F...|                 3|               2|    Active|  On-site|    942704|\n",
      "|   1556582| EMP1556583|      Cristian Banks| Marketing| Marketing Executive|2020-09-28|North Jeffside, A...|                 5|               4|    Active|   Remote|    805870|\n",
      "|     60981| EMP0060982|     David Gutierrez|       R&D|  Research Scientist|2020-04-30|New Anthonybury, ...|                 4|               5|  Resigned|  On-site|    530555|\n",
      "|    204261| EMP0204262|        Jeffrey King|   Finance|          Accountant|2020-12-16|   Grayland, Namibia|                 4|               4|   Retired|  On-site|    472497|\n",
      "|   1206452| EMP1206453|         Kayla Wyatt|Operations|Operations Executive|2024-12-20|Donnaville, Guate...|                 5|               0|    Active|  On-site|    754609|\n",
      "+----------+-----------+--------------------+----------+--------------------+----------+--------------------+------------------+----------------+----------+---------+----------+\n",
      "only showing top 20 rows\n",
      "\n",
      "Ingested data successfully into Iceberg\n"
     ]
    }
   ],
   "execution_count": 3
  }
 ],
 "metadata": {
  "kernelspec": {
   "display_name": "Python 3 (ipykernel)",
   "language": "python",
   "name": "python3"
  },
  "language_info": {
   "codemirror_mode": {
    "name": "ipython",
    "version": 2
   },
   "file_extension": ".py",
   "mimetype": "text/x-python",
   "name": "python",
   "nbconvert_exporter": "python",
   "pygments_lexer": "ipython2",
   "version": "2.7.6"
  }
 },
 "nbformat": 4,
 "nbformat_minor": 5
}
