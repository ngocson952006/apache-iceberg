{
 "cells": [
  {
   "cell_type": "code",
   "id": "initial_id",
   "metadata": {
    "collapsed": true,
    "ExecuteTime": {
     "end_time": "2025-09-01T08:36:56.100571Z",
     "start_time": "2025-09-01T08:36:56.097157Z"
    }
   },
   "source": [
    "import sys\n",
    "import os\n",
    "import pandas as pd\n",
    "\n",
    "share_libs_path =os.path.abspath(os.path.join('../..', 'libs'))\n",
    "# Add the path to sys.path if it's not already there\n",
    "if share_libs_path not in sys.path:\n",
    "    sys.path.append(share_libs_path)\n",
    "\n",
    "try:\n",
    "    import minio_helper\n",
    "except ImportError:\n",
    "    raise ImportError(\"minio_reader is not found. Please install it from the shared_code folder.\")"
   ],
   "outputs": [],
   "execution_count": 14
  },
  {
   "metadata": {},
   "cell_type": "markdown",
   "source": "Start reading data from minio",
   "id": "cc6ab75c3b7a0b17"
  },
  {
   "metadata": {
    "ExecuteTime": {
     "end_time": "2025-09-01T08:36:59.435783Z",
     "start_time": "2025-09-01T08:36:56.104504Z"
    }
   },
   "cell_type": "code",
   "source": [
    "bucket_name = \"csv-data-files\"\n",
    "purchase_csv_file = \"purchases.csv\"\n",
    "purchases_df = minio_helper.read_csv(bucket_name, purchase_csv_file)\n",
    "\n",
    "# s3fs client object\n",
    "s3fs_client = minio_helper.minio_client()\n",
    "\n",
    "# define output spaces for re-structured dataframe\n",
    "FORMATTED_DATA_OUTPUT_BUCKET = \"formatted-data-files\""
   ],
   "id": "1426e45f4bf4f733",
   "outputs": [],
   "execution_count": 15
  },
  {
   "metadata": {
    "ExecuteTime": {
     "end_time": "2025-09-01T08:36:59.483405Z",
     "start_time": "2025-09-01T08:36:59.478265Z"
    }
   },
   "cell_type": "code",
   "source": [
    "print(purchases_df.shape)\n",
    "purchases_df.head()"
   ],
   "id": "761e24c2f8b828b3",
   "outputs": [
    {
     "name": "stdout",
     "output_type": "stream",
     "text": [
      "(71519, 11)\n"
     ]
    },
    {
     "data": {
      "text/plain": [
       "                  event_time  product_id          category_id  \\\n",
       "0  2022-10-01 02:26:08+00:00    32701106  2055156924466332447   \n",
       "1  2022-10-01 02:28:32+00:00     9400066  2053013566067311601   \n",
       "2  2022-10-01 02:31:01+00:00     1004238  2053013555631882655   \n",
       "3  2022-10-01 02:33:31+00:00    11300059  2053013555531219353   \n",
       "4  2022-10-01 02:40:18+00:00    17300751  2053013553853497655   \n",
       "\n",
       "            category_code    brand    price  \\\n",
       "0                     NaN  shimano    95.21   \n",
       "1                     NaN   jaguar   164.20   \n",
       "2  electronics.smartphone    apple  1206.40   \n",
       "3   electronics.telephone    texet    17.48   \n",
       "4                     NaN  versace    77.22   \n",
       "\n",
       "                             session_id  customer_id guest_first_name  \\\n",
       "0  64c68405-7002-4ce0-9604-a4c2e1f7384b          NaN          MICHAEL   \n",
       "1  3b7d6741-3c82-4c75-8015-6f54b52612e0       7466.0              NaN   \n",
       "2  38c6d3f7-6c32-4fed-bca6-ef98e1746386          NaN             COLE   \n",
       "3  3398c966-7846-4186-89be-323daad735b9          NaN         MOHAMMED   \n",
       "4  11e3a573-01b9-4794-b513-e7d8a4fcac83      31266.0              NaN   \n",
       "\n",
       "  guest_surname guest_postcode  \n",
       "0         MASON        RG497ZQ  \n",
       "1           NaN            NaN  \n",
       "2     WILKINSON         SW75TQ  \n",
       "3      RICHARDS        RG150RE  \n",
       "4           NaN            NaN  "
      ],
      "text/html": [
       "<div>\n",
       "<style scoped>\n",
       "    .dataframe tbody tr th:only-of-type {\n",
       "        vertical-align: middle;\n",
       "    }\n",
       "\n",
       "    .dataframe tbody tr th {\n",
       "        vertical-align: top;\n",
       "    }\n",
       "\n",
       "    .dataframe thead th {\n",
       "        text-align: right;\n",
       "    }\n",
       "</style>\n",
       "<table border=\"1\" class=\"dataframe\">\n",
       "  <thead>\n",
       "    <tr style=\"text-align: right;\">\n",
       "      <th></th>\n",
       "      <th>event_time</th>\n",
       "      <th>product_id</th>\n",
       "      <th>category_id</th>\n",
       "      <th>category_code</th>\n",
       "      <th>brand</th>\n",
       "      <th>price</th>\n",
       "      <th>session_id</th>\n",
       "      <th>customer_id</th>\n",
       "      <th>guest_first_name</th>\n",
       "      <th>guest_surname</th>\n",
       "      <th>guest_postcode</th>\n",
       "    </tr>\n",
       "  </thead>\n",
       "  <tbody>\n",
       "    <tr>\n",
       "      <th>0</th>\n",
       "      <td>2022-10-01 02:26:08+00:00</td>\n",
       "      <td>32701106</td>\n",
       "      <td>2055156924466332447</td>\n",
       "      <td>NaN</td>\n",
       "      <td>shimano</td>\n",
       "      <td>95.21</td>\n",
       "      <td>64c68405-7002-4ce0-9604-a4c2e1f7384b</td>\n",
       "      <td>NaN</td>\n",
       "      <td>MICHAEL</td>\n",
       "      <td>MASON</td>\n",
       "      <td>RG497ZQ</td>\n",
       "    </tr>\n",
       "    <tr>\n",
       "      <th>1</th>\n",
       "      <td>2022-10-01 02:28:32+00:00</td>\n",
       "      <td>9400066</td>\n",
       "      <td>2053013566067311601</td>\n",
       "      <td>NaN</td>\n",
       "      <td>jaguar</td>\n",
       "      <td>164.20</td>\n",
       "      <td>3b7d6741-3c82-4c75-8015-6f54b52612e0</td>\n",
       "      <td>7466.0</td>\n",
       "      <td>NaN</td>\n",
       "      <td>NaN</td>\n",
       "      <td>NaN</td>\n",
       "    </tr>\n",
       "    <tr>\n",
       "      <th>2</th>\n",
       "      <td>2022-10-01 02:31:01+00:00</td>\n",
       "      <td>1004238</td>\n",
       "      <td>2053013555631882655</td>\n",
       "      <td>electronics.smartphone</td>\n",
       "      <td>apple</td>\n",
       "      <td>1206.40</td>\n",
       "      <td>38c6d3f7-6c32-4fed-bca6-ef98e1746386</td>\n",
       "      <td>NaN</td>\n",
       "      <td>COLE</td>\n",
       "      <td>WILKINSON</td>\n",
       "      <td>SW75TQ</td>\n",
       "    </tr>\n",
       "    <tr>\n",
       "      <th>3</th>\n",
       "      <td>2022-10-01 02:33:31+00:00</td>\n",
       "      <td>11300059</td>\n",
       "      <td>2053013555531219353</td>\n",
       "      <td>electronics.telephone</td>\n",
       "      <td>texet</td>\n",
       "      <td>17.48</td>\n",
       "      <td>3398c966-7846-4186-89be-323daad735b9</td>\n",
       "      <td>NaN</td>\n",
       "      <td>MOHAMMED</td>\n",
       "      <td>RICHARDS</td>\n",
       "      <td>RG150RE</td>\n",
       "    </tr>\n",
       "    <tr>\n",
       "      <th>4</th>\n",
       "      <td>2022-10-01 02:40:18+00:00</td>\n",
       "      <td>17300751</td>\n",
       "      <td>2053013553853497655</td>\n",
       "      <td>NaN</td>\n",
       "      <td>versace</td>\n",
       "      <td>77.22</td>\n",
       "      <td>11e3a573-01b9-4794-b513-e7d8a4fcac83</td>\n",
       "      <td>31266.0</td>\n",
       "      <td>NaN</td>\n",
       "      <td>NaN</td>\n",
       "      <td>NaN</td>\n",
       "    </tr>\n",
       "  </tbody>\n",
       "</table>\n",
       "</div>"
      ]
     },
     "execution_count": 16,
     "metadata": {},
     "output_type": "execute_result"
    }
   ],
   "execution_count": 16
  },
  {
   "metadata": {},
   "cell_type": "markdown",
   "source": "Profiling dataset",
   "id": "dfb6f70fe16ccbc7"
  },
  {
   "metadata": {
    "ExecuteTime": {
     "end_time": "2025-09-01T08:36:59.542209Z",
     "start_time": "2025-09-01T08:36:59.528908Z"
    }
   },
   "cell_type": "code",
   "source": "print(purchases_df.isnull().sum())",
   "id": "4c826871815dba5",
   "outputs": [
    {
     "name": "stdout",
     "output_type": "stream",
     "text": [
      "event_time              0\n",
      "product_id              0\n",
      "category_id             0\n",
      "category_code       16739\n",
      "brand                5707\n",
      "price                   0\n",
      "session_id              0\n",
      "customer_id         18448\n",
      "guest_first_name    53071\n",
      "guest_surname       53071\n",
      "guest_postcode      53071\n",
      "dtype: int64\n"
     ]
    }
   ],
   "execution_count": 17
  },
  {
   "metadata": {},
   "cell_type": "markdown",
   "source": "Do analysis",
   "id": "2ec7f7200907a5f1"
  },
  {
   "metadata": {
    "ExecuteTime": {
     "end_time": "2025-09-01T08:36:59.613954Z",
     "start_time": "2025-09-01T08:36:59.610011Z"
    }
   },
   "cell_type": "code",
   "source": [
    "purchases_df['is_guest'] = purchases_df['customer_id'].isnull()\n",
    "\n",
    "# Check if there are any invalid records that purchase is guest, but the customer_id is presented\n",
    "invalid_guest_records = purchases_df[purchases_df['is_guest'] & purchases_df['customer_id'].notnull()]\n",
    "invalid_non_guest_records = purchases_df[(purchases_df['is_guest'] == False) & purchases_df['customer_id'].isnull()]\n",
    "if invalid_guest_records.empty & invalid_non_guest_records.empty:\n",
    "    print(f\"No invalid records found for guest purchases\")"
   ],
   "id": "4d20080275e0085b",
   "outputs": [
    {
     "name": "stdout",
     "output_type": "stream",
     "text": [
      "No invalid records found for guest purchases\n"
     ]
    }
   ],
   "execution_count": 18
  },
  {
   "metadata": {},
   "cell_type": "markdown",
   "source": "Check proportion of guest and non-guest checkouts",
   "id": "8e00fd35eae2fae9"
  },
  {
   "metadata": {
    "ExecuteTime": {
     "end_time": "2025-09-01T08:36:59.675132Z",
     "start_time": "2025-09-01T08:36:59.671171Z"
    }
   },
   "cell_type": "code",
   "source": "purchases_df['is_guest'].value_counts(normalize=True)",
   "id": "18bbef00431d6ce5",
   "outputs": [
    {
     "data": {
      "text/plain": [
       "is_guest\n",
       "False    0.742055\n",
       "True     0.257945\n",
       "Name: proportion, dtype: float64"
      ]
     },
     "execution_count": 19,
     "metadata": {},
     "output_type": "execute_result"
    }
   ],
   "execution_count": 19
  },
  {
   "metadata": {
    "ExecuteTime": {
     "end_time": "2025-09-01T08:36:59.856364Z",
     "start_time": "2025-09-01T08:36:59.843520Z"
    }
   },
   "cell_type": "code",
   "source": [
    "# Calculate the actual number of guests\n",
    "guest_names = ['guest_first_name', 'guest_surname', 'guest_postcode']\n",
    "guest_unique_count = len(purchases_df[guest_names].drop_duplicates())\n",
    "print(f'There are {guest_unique_count} unique guests')\n",
    "\n",
    "# Calculate the actual number of customers\n",
    "unique_customers_count = len(purchases_df['customer_id'].unique())\n",
    "print(f'There are {unique_customers_count} unique customers')\n",
    "\n",
    "actual_total = guest_unique_count + unique_customers_count\n",
    "print(f'Actual total of customers is: {actual_total} from the {len(purchases_df)} purchases records')\n",
    "\n",
    "# Calculate the proportion\n",
    "#NOTE: we need to subtract 1 because the null value is included in the count\n",
    "guest_proportion = guest_unique_count / (actual_total - 1)\n",
    "print(f'Guest proportion: {guest_proportion}')"
   ],
   "id": "f9da1e9fcb201897",
   "outputs": [
    {
     "name": "stdout",
     "output_type": "stream",
     "text": [
      "There are 8301 unique guests\n",
      "There are 24962 unique customers\n",
      "Actual total of customers is: 33263 from the 71519 purchases records\n",
      "Guest proportion: 0.2495640671036017\n"
     ]
    }
   ],
   "execution_count": 20
  },
  {
   "metadata": {},
   "cell_type": "markdown",
   "source": "Transformation Stage: Restructuring a dataset to the common structure",
   "id": "b868b4499819a01"
  },
  {
   "metadata": {
    "ExecuteTime": {
     "end_time": "2025-09-01T08:36:59.929205Z",
     "start_time": "2025-09-01T08:36:59.919266Z"
    }
   },
   "cell_type": "code",
   "source": [
    "# first, extract guest data first\n",
    "guest_columns = [\"guest_first_name\", \"guest_surname\", \"guest_postcode\", \"is_guest\"]\n",
    "guests_df = purchases_df.loc[ purchases_df['is_guest'] == True , guest_columns]\n",
    "guests_df.drop_duplicates()\n",
    "guests_df.head()"
   ],
   "id": "41c994f0dde39ec9",
   "outputs": [
    {
     "data": {
      "text/plain": [
       "   guest_first_name guest_surname guest_postcode  is_guest\n",
       "0           MICHAEL         MASON        RG497ZQ      True\n",
       "2              COLE     WILKINSON         SW75TQ      True\n",
       "3          MOHAMMED      RICHARDS        RG150RE      True\n",
       "7              KIAN         MILLS        SW332TF      True\n",
       "13             RUBY          OWEN        PO377YS      True"
      ],
      "text/html": [
       "<div>\n",
       "<style scoped>\n",
       "    .dataframe tbody tr th:only-of-type {\n",
       "        vertical-align: middle;\n",
       "    }\n",
       "\n",
       "    .dataframe tbody tr th {\n",
       "        vertical-align: top;\n",
       "    }\n",
       "\n",
       "    .dataframe thead th {\n",
       "        text-align: right;\n",
       "    }\n",
       "</style>\n",
       "<table border=\"1\" class=\"dataframe\">\n",
       "  <thead>\n",
       "    <tr style=\"text-align: right;\">\n",
       "      <th></th>\n",
       "      <th>guest_first_name</th>\n",
       "      <th>guest_surname</th>\n",
       "      <th>guest_postcode</th>\n",
       "      <th>is_guest</th>\n",
       "    </tr>\n",
       "  </thead>\n",
       "  <tbody>\n",
       "    <tr>\n",
       "      <th>0</th>\n",
       "      <td>MICHAEL</td>\n",
       "      <td>MASON</td>\n",
       "      <td>RG497ZQ</td>\n",
       "      <td>True</td>\n",
       "    </tr>\n",
       "    <tr>\n",
       "      <th>2</th>\n",
       "      <td>COLE</td>\n",
       "      <td>WILKINSON</td>\n",
       "      <td>SW75TQ</td>\n",
       "      <td>True</td>\n",
       "    </tr>\n",
       "    <tr>\n",
       "      <th>3</th>\n",
       "      <td>MOHAMMED</td>\n",
       "      <td>RICHARDS</td>\n",
       "      <td>RG150RE</td>\n",
       "      <td>True</td>\n",
       "    </tr>\n",
       "    <tr>\n",
       "      <th>7</th>\n",
       "      <td>KIAN</td>\n",
       "      <td>MILLS</td>\n",
       "      <td>SW332TF</td>\n",
       "      <td>True</td>\n",
       "    </tr>\n",
       "    <tr>\n",
       "      <th>13</th>\n",
       "      <td>RUBY</td>\n",
       "      <td>OWEN</td>\n",
       "      <td>PO377YS</td>\n",
       "      <td>True</td>\n",
       "    </tr>\n",
       "  </tbody>\n",
       "</table>\n",
       "</div>"
      ]
     },
     "execution_count": 21,
     "metadata": {},
     "output_type": "execute_result"
    }
   ],
   "execution_count": 21
  },
  {
   "metadata": {
    "ExecuteTime": {
     "end_time": "2025-09-01T08:36:59.984267Z",
     "start_time": "2025-09-01T08:36:59.978259Z"
    }
   },
   "cell_type": "code",
   "source": [
    "customer_ids_df = purchases_df.loc[purchases_df['is_guest'] == False, ['customer_id']].drop_duplicates()\n",
    "customer_ids_df.head()"
   ],
   "id": "2175d09e7b3bd055",
   "outputs": [
    {
     "data": {
      "text/plain": [
       "   customer_id\n",
       "1       7466.0\n",
       "4      31266.0\n",
       "5  534142828.0\n",
       "6       1035.0\n",
       "8       6985.0"
      ],
      "text/html": [
       "<div>\n",
       "<style scoped>\n",
       "    .dataframe tbody tr th:only-of-type {\n",
       "        vertical-align: middle;\n",
       "    }\n",
       "\n",
       "    .dataframe tbody tr th {\n",
       "        vertical-align: top;\n",
       "    }\n",
       "\n",
       "    .dataframe thead th {\n",
       "        text-align: right;\n",
       "    }\n",
       "</style>\n",
       "<table border=\"1\" class=\"dataframe\">\n",
       "  <thead>\n",
       "    <tr style=\"text-align: right;\">\n",
       "      <th></th>\n",
       "      <th>customer_id</th>\n",
       "    </tr>\n",
       "  </thead>\n",
       "  <tbody>\n",
       "    <tr>\n",
       "      <th>1</th>\n",
       "      <td>7466.0</td>\n",
       "    </tr>\n",
       "    <tr>\n",
       "      <th>4</th>\n",
       "      <td>31266.0</td>\n",
       "    </tr>\n",
       "    <tr>\n",
       "      <th>5</th>\n",
       "      <td>534142828.0</td>\n",
       "    </tr>\n",
       "    <tr>\n",
       "      <th>6</th>\n",
       "      <td>1035.0</td>\n",
       "    </tr>\n",
       "    <tr>\n",
       "      <th>8</th>\n",
       "      <td>6985.0</td>\n",
       "    </tr>\n",
       "  </tbody>\n",
       "</table>\n",
       "</div>"
      ]
     },
     "execution_count": 22,
     "metadata": {},
     "output_type": "execute_result"
    }
   ],
   "execution_count": 22
  },
  {
   "metadata": {},
   "cell_type": "markdown",
   "source": "Start to combine customer_ids_df and guests_df into a final sales_customer_df",
   "id": "9f2599f61f002d3"
  },
  {
   "metadata": {
    "ExecuteTime": {
     "end_time": "2025-09-01T08:37:00.129187Z",
     "start_time": "2025-09-01T08:37:00.121669Z"
    }
   },
   "cell_type": "code",
   "source": [
    "sales_customer_df = pd.concat([customer_ids_df, guests_df], axis=0, ignore_index=True)\n",
    "sales_customer_df.head()"
   ],
   "id": "ccf1472f1bf3f4ee",
   "outputs": [
    {
     "data": {
      "text/plain": [
       "   customer_id guest_first_name guest_surname guest_postcode is_guest\n",
       "0       7466.0              NaN           NaN            NaN      NaN\n",
       "1      31266.0              NaN           NaN            NaN      NaN\n",
       "2  534142828.0              NaN           NaN            NaN      NaN\n",
       "3       1035.0              NaN           NaN            NaN      NaN\n",
       "4       6985.0              NaN           NaN            NaN      NaN"
      ],
      "text/html": [
       "<div>\n",
       "<style scoped>\n",
       "    .dataframe tbody tr th:only-of-type {\n",
       "        vertical-align: middle;\n",
       "    }\n",
       "\n",
       "    .dataframe tbody tr th {\n",
       "        vertical-align: top;\n",
       "    }\n",
       "\n",
       "    .dataframe thead th {\n",
       "        text-align: right;\n",
       "    }\n",
       "</style>\n",
       "<table border=\"1\" class=\"dataframe\">\n",
       "  <thead>\n",
       "    <tr style=\"text-align: right;\">\n",
       "      <th></th>\n",
       "      <th>customer_id</th>\n",
       "      <th>guest_first_name</th>\n",
       "      <th>guest_surname</th>\n",
       "      <th>guest_postcode</th>\n",
       "      <th>is_guest</th>\n",
       "    </tr>\n",
       "  </thead>\n",
       "  <tbody>\n",
       "    <tr>\n",
       "      <th>0</th>\n",
       "      <td>7466.0</td>\n",
       "      <td>NaN</td>\n",
       "      <td>NaN</td>\n",
       "      <td>NaN</td>\n",
       "      <td>NaN</td>\n",
       "    </tr>\n",
       "    <tr>\n",
       "      <th>1</th>\n",
       "      <td>31266.0</td>\n",
       "      <td>NaN</td>\n",
       "      <td>NaN</td>\n",
       "      <td>NaN</td>\n",
       "      <td>NaN</td>\n",
       "    </tr>\n",
       "    <tr>\n",
       "      <th>2</th>\n",
       "      <td>534142828.0</td>\n",
       "      <td>NaN</td>\n",
       "      <td>NaN</td>\n",
       "      <td>NaN</td>\n",
       "      <td>NaN</td>\n",
       "    </tr>\n",
       "    <tr>\n",
       "      <th>3</th>\n",
       "      <td>1035.0</td>\n",
       "      <td>NaN</td>\n",
       "      <td>NaN</td>\n",
       "      <td>NaN</td>\n",
       "      <td>NaN</td>\n",
       "    </tr>\n",
       "    <tr>\n",
       "      <th>4</th>\n",
       "      <td>6985.0</td>\n",
       "      <td>NaN</td>\n",
       "      <td>NaN</td>\n",
       "      <td>NaN</td>\n",
       "      <td>NaN</td>\n",
       "    </tr>\n",
       "  </tbody>\n",
       "</table>\n",
       "</div>"
      ]
     },
     "execution_count": 23,
     "metadata": {},
     "output_type": "execute_result"
    }
   ],
   "execution_count": 23
  },
  {
   "metadata": {},
   "cell_type": "markdown",
   "source": "Do data transformation for the union dataframe",
   "id": "212d7b8cc89f6774"
  },
  {
   "metadata": {
    "ExecuteTime": {
     "end_time": "2025-09-01T08:37:00.436760Z",
     "start_time": "2025-09-01T08:37:00.412455Z"
    }
   },
   "cell_type": "code",
   "source": [
    "# Start rename columns data union dataset for better structure format\n",
    "column_names = [\"customer_id\", \"first_name\", \"surname\", \"postcode\", \"is_guest\"]\n",
    "sales_customer_df = sales_customer_df.set_axis(column_names, axis=1)\n",
    "\n",
    "# Fill all empty is_guest blank values to False\n",
    "sales_customer_df['is_guest'] = sales_customer_df['is_guest'].fillna(False)\n",
    "\n",
    "# Mark that all records from this dataframe are from the purchase source\n",
    "sales_customer_df['in_purchase_data'] = True\n",
    "\n",
    "# Do trim all spaces for strings values (we also apply lower case for names components)\n",
    "for col_name in ['first_name', 'surname']:\n",
    "    sales_customer_df[col_name] = sales_customer_df[col_name].str.lower().str.strip()\n",
    "sales_customer_df['postcode'] = sales_customer_df['postcode'].str.strip()\n",
    "filtered_df = sales_customer_df[sales_customer_df['first_name'].notnull()]\n",
    "filtered_df"
   ],
   "id": "86eaad56ea411be",
   "outputs": [
    {
     "name": "stderr",
     "output_type": "stream",
     "text": [
      "/var/folders/97/835pt_fd54749hk3wzm_wv2w0000gn/T/ipykernel_84108/2233608144.py:6: FutureWarning: Downcasting object dtype arrays on .fillna, .ffill, .bfill is deprecated and will change in a future version. Call result.infer_objects(copy=False) instead. To opt-in to the future behavior, set `pd.set_option('future.no_silent_downcasting', True)`\n",
      "  sales_customer_df['is_guest'] = sales_customer_df['is_guest'].fillna(False)\n"
     ]
    },
    {
     "data": {
      "text/plain": [
       "       customer_id first_name    surname postcode  is_guest  in_purchase_data\n",
       "24961          NaN    michael      mason  RG497ZQ      True              True\n",
       "24962          NaN       cole  wilkinson   SW75TQ      True              True\n",
       "24963          NaN   mohammed   richards  RG150RE      True              True\n",
       "24964          NaN       kian      mills  SW332TF      True              True\n",
       "24965          NaN       ruby       owen  PO377YS      True              True\n",
       "...            ...        ...        ...      ...       ...               ...\n",
       "43404          NaN     harley     thomas   M625UB      True              True\n",
       "43405          NaN     harley     thomas   M625UB      True              True\n",
       "43406          NaN     harley     thomas   M625UB      True              True\n",
       "43407          NaN     harley     thomas   M625UB      True              True\n",
       "43408          NaN       leah     butler  LS433YR      True              True\n",
       "\n",
       "[18448 rows x 6 columns]"
      ],
      "text/html": [
       "<div>\n",
       "<style scoped>\n",
       "    .dataframe tbody tr th:only-of-type {\n",
       "        vertical-align: middle;\n",
       "    }\n",
       "\n",
       "    .dataframe tbody tr th {\n",
       "        vertical-align: top;\n",
       "    }\n",
       "\n",
       "    .dataframe thead th {\n",
       "        text-align: right;\n",
       "    }\n",
       "</style>\n",
       "<table border=\"1\" class=\"dataframe\">\n",
       "  <thead>\n",
       "    <tr style=\"text-align: right;\">\n",
       "      <th></th>\n",
       "      <th>customer_id</th>\n",
       "      <th>first_name</th>\n",
       "      <th>surname</th>\n",
       "      <th>postcode</th>\n",
       "      <th>is_guest</th>\n",
       "      <th>in_purchase_data</th>\n",
       "    </tr>\n",
       "  </thead>\n",
       "  <tbody>\n",
       "    <tr>\n",
       "      <th>24961</th>\n",
       "      <td>NaN</td>\n",
       "      <td>michael</td>\n",
       "      <td>mason</td>\n",
       "      <td>RG497ZQ</td>\n",
       "      <td>True</td>\n",
       "      <td>True</td>\n",
       "    </tr>\n",
       "    <tr>\n",
       "      <th>24962</th>\n",
       "      <td>NaN</td>\n",
       "      <td>cole</td>\n",
       "      <td>wilkinson</td>\n",
       "      <td>SW75TQ</td>\n",
       "      <td>True</td>\n",
       "      <td>True</td>\n",
       "    </tr>\n",
       "    <tr>\n",
       "      <th>24963</th>\n",
       "      <td>NaN</td>\n",
       "      <td>mohammed</td>\n",
       "      <td>richards</td>\n",
       "      <td>RG150RE</td>\n",
       "      <td>True</td>\n",
       "      <td>True</td>\n",
       "    </tr>\n",
       "    <tr>\n",
       "      <th>24964</th>\n",
       "      <td>NaN</td>\n",
       "      <td>kian</td>\n",
       "      <td>mills</td>\n",
       "      <td>SW332TF</td>\n",
       "      <td>True</td>\n",
       "      <td>True</td>\n",
       "    </tr>\n",
       "    <tr>\n",
       "      <th>24965</th>\n",
       "      <td>NaN</td>\n",
       "      <td>ruby</td>\n",
       "      <td>owen</td>\n",
       "      <td>PO377YS</td>\n",
       "      <td>True</td>\n",
       "      <td>True</td>\n",
       "    </tr>\n",
       "    <tr>\n",
       "      <th>...</th>\n",
       "      <td>...</td>\n",
       "      <td>...</td>\n",
       "      <td>...</td>\n",
       "      <td>...</td>\n",
       "      <td>...</td>\n",
       "      <td>...</td>\n",
       "    </tr>\n",
       "    <tr>\n",
       "      <th>43404</th>\n",
       "      <td>NaN</td>\n",
       "      <td>harley</td>\n",
       "      <td>thomas</td>\n",
       "      <td>M625UB</td>\n",
       "      <td>True</td>\n",
       "      <td>True</td>\n",
       "    </tr>\n",
       "    <tr>\n",
       "      <th>43405</th>\n",
       "      <td>NaN</td>\n",
       "      <td>harley</td>\n",
       "      <td>thomas</td>\n",
       "      <td>M625UB</td>\n",
       "      <td>True</td>\n",
       "      <td>True</td>\n",
       "    </tr>\n",
       "    <tr>\n",
       "      <th>43406</th>\n",
       "      <td>NaN</td>\n",
       "      <td>harley</td>\n",
       "      <td>thomas</td>\n",
       "      <td>M625UB</td>\n",
       "      <td>True</td>\n",
       "      <td>True</td>\n",
       "    </tr>\n",
       "    <tr>\n",
       "      <th>43407</th>\n",
       "      <td>NaN</td>\n",
       "      <td>harley</td>\n",
       "      <td>thomas</td>\n",
       "      <td>M625UB</td>\n",
       "      <td>True</td>\n",
       "      <td>True</td>\n",
       "    </tr>\n",
       "    <tr>\n",
       "      <th>43408</th>\n",
       "      <td>NaN</td>\n",
       "      <td>leah</td>\n",
       "      <td>butler</td>\n",
       "      <td>LS433YR</td>\n",
       "      <td>True</td>\n",
       "      <td>True</td>\n",
       "    </tr>\n",
       "  </tbody>\n",
       "</table>\n",
       "<p>18448 rows × 6 columns</p>\n",
       "</div>"
      ]
     },
     "execution_count": 24,
     "metadata": {},
     "output_type": "execute_result"
    }
   ],
   "execution_count": 24
  },
  {
   "metadata": {
    "ExecuteTime": {
     "end_time": "2025-09-01T08:37:01.024623Z",
     "start_time": "2025-09-01T08:37:00.473037Z"
    }
   },
   "cell_type": "code",
   "source": [
    "# Save the generated dataframe into Minio bucket for later analysis\n",
    "minio_helper.upload_df_to_remote(s3fs_client, FORMATTED_DATA_OUTPUT_BUCKET, sales_customer_df, \"sales_customer_df.csv\")"
   ],
   "id": "404ba227a6b39774",
   "outputs": [
    {
     "data": {
      "text/plain": [
       "True"
      ]
     },
     "execution_count": 25,
     "metadata": {},
     "output_type": "execute_result"
    }
   ],
   "execution_count": 25
  }
 ],
 "metadata": {
  "kernelspec": {
   "display_name": "Python 3",
   "language": "python",
   "name": "python3"
  },
  "language_info": {
   "codemirror_mode": {
    "name": "ipython",
    "version": 2
   },
   "file_extension": ".py",
   "mimetype": "text/x-python",
   "name": "python",
   "nbconvert_exporter": "python",
   "pygments_lexer": "ipython2",
   "version": "2.7.6"
  }
 },
 "nbformat": 4,
 "nbformat_minor": 5
}
