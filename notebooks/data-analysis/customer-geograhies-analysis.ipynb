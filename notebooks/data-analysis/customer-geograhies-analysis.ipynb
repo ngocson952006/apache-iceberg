{
 "cells": [
  {
   "cell_type": "code",
   "id": "initial_id",
   "metadata": {
    "collapsed": true,
    "ExecuteTime": {
     "end_time": "2025-08-30T01:47:54.731156Z",
     "start_time": "2025-08-30T01:47:54.281298Z"
    }
   },
   "source": [
    "import pandas as pd\n",
    "\n",
    "CUSTOMERS_ADDRESSES_FILE_PATH = \"../../csv_files/addresses.csv\"\n",
    "CITY_FILE_PATH = \"../../csv_files/cities.csv\""
   ],
   "outputs": [],
   "execution_count": 1
  },
  {
   "metadata": {},
   "cell_type": "markdown",
   "source": "Read CSV file",
   "id": "4c105ff17a121e29"
  },
  {
   "metadata": {
    "ExecuteTime": {
     "end_time": "2025-08-30T01:47:54.828052Z",
     "start_time": "2025-08-30T01:47:54.742888Z"
    }
   },
   "cell_type": "code",
   "source": [
    "customers_addresses = pd.read_csv(CUSTOMERS_ADDRESSES_FILE_PATH)\n",
    "cities = pd.read_csv(CITY_FILE_PATH, header=None, names=['city'])\n",
    "print(customers_addresses.describe())"
   ],
   "id": "f13db61bd8271fb",
   "outputs": [
    {
     "name": "stdout",
     "output_type": "stream",
     "text": [
      "          company_id    total_spend\n",
      "count  100000.000000  100000.000000\n",
      "mean    50000.500000    4951.662000\n",
      "std     28867.657797    1500.983866\n",
      "min         1.000000       0.000000\n",
      "25%     25000.750000    3900.000000\n",
      "50%     50000.500000    5000.000000\n",
      "75%     75000.250000    6000.000000\n",
      "max    100000.000000   11700.000000\n"
     ]
    }
   ],
   "execution_count": 2
  },
  {
   "metadata": {
    "ExecuteTime": {
     "end_time": "2025-08-30T01:47:54.879104Z",
     "start_time": "2025-08-30T01:47:54.866326Z"
    }
   },
   "cell_type": "code",
   "source": "customers_addresses",
   "id": "56105f46cc0dc76a",
   "outputs": [
    {
     "data": {
      "text/plain": [
       "       company_id                                            address  \\\n",
       "0               1  APARTMENT 2,\\n52 BEDFORD ROAD,\\nLONDON,\\nENGLA...   \n",
       "1               2           107 SHERINGHAM AVENUE,\\nLONDON,\\nN14 4UJ   \n",
       "2               3  43 SUNNINGDALE,\\nYATE,\\nBRISTOL,\\nENGLAND,\\nBS...   \n",
       "3               4  HAWESWATER HOUSE,\\nLINGLEY MERE BUSINESS PARK,...   \n",
       "4               5  AMBERFIELD BARN HOUSE AMBER LANE,\\nCHART SUTTO...   \n",
       "...           ...                                                ...   \n",
       "99995       99996  KNAPP HOUSE,\\nSELSLEY WEST,\\nSTROUD,\\nGLOUCEST...   \n",
       "99996       99997  20 The Broadway, Hampton Court,\\nWay, Thames D...   \n",
       "99997       99998  MARLAND HOUSE,\\n13 HUDDERSFIELD ROAD,\\nBARNSLE...   \n",
       "99998       99999  4 MOUNT SCAR VIEW,\\nSCHOLES,\\nHOLMFIRTH HUDDER...   \n",
       "99999      100000  Manningham Mills Community Center, Silk Wareho...   \n",
       "\n",
       "       total_spend  \n",
       "0             5700  \n",
       "1             4700  \n",
       "2             5900  \n",
       "3             7200  \n",
       "4             4600  \n",
       "...            ...  \n",
       "99995         4600  \n",
       "99996         4100  \n",
       "99997         5600  \n",
       "99998         4600  \n",
       "99999         5100  \n",
       "\n",
       "[100000 rows x 3 columns]"
      ],
      "text/html": [
       "<div>\n",
       "<style scoped>\n",
       "    .dataframe tbody tr th:only-of-type {\n",
       "        vertical-align: middle;\n",
       "    }\n",
       "\n",
       "    .dataframe tbody tr th {\n",
       "        vertical-align: top;\n",
       "    }\n",
       "\n",
       "    .dataframe thead th {\n",
       "        text-align: right;\n",
       "    }\n",
       "</style>\n",
       "<table border=\"1\" class=\"dataframe\">\n",
       "  <thead>\n",
       "    <tr style=\"text-align: right;\">\n",
       "      <th></th>\n",
       "      <th>company_id</th>\n",
       "      <th>address</th>\n",
       "      <th>total_spend</th>\n",
       "    </tr>\n",
       "  </thead>\n",
       "  <tbody>\n",
       "    <tr>\n",
       "      <th>0</th>\n",
       "      <td>1</td>\n",
       "      <td>APARTMENT 2,\\n52 BEDFORD ROAD,\\nLONDON,\\nENGLA...</td>\n",
       "      <td>5700</td>\n",
       "    </tr>\n",
       "    <tr>\n",
       "      <th>1</th>\n",
       "      <td>2</td>\n",
       "      <td>107 SHERINGHAM AVENUE,\\nLONDON,\\nN14 4UJ</td>\n",
       "      <td>4700</td>\n",
       "    </tr>\n",
       "    <tr>\n",
       "      <th>2</th>\n",
       "      <td>3</td>\n",
       "      <td>43 SUNNINGDALE,\\nYATE,\\nBRISTOL,\\nENGLAND,\\nBS...</td>\n",
       "      <td>5900</td>\n",
       "    </tr>\n",
       "    <tr>\n",
       "      <th>3</th>\n",
       "      <td>4</td>\n",
       "      <td>HAWESWATER HOUSE,\\nLINGLEY MERE BUSINESS PARK,...</td>\n",
       "      <td>7200</td>\n",
       "    </tr>\n",
       "    <tr>\n",
       "      <th>4</th>\n",
       "      <td>5</td>\n",
       "      <td>AMBERFIELD BARN HOUSE AMBER LANE,\\nCHART SUTTO...</td>\n",
       "      <td>4600</td>\n",
       "    </tr>\n",
       "    <tr>\n",
       "      <th>...</th>\n",
       "      <td>...</td>\n",
       "      <td>...</td>\n",
       "      <td>...</td>\n",
       "    </tr>\n",
       "    <tr>\n",
       "      <th>99995</th>\n",
       "      <td>99996</td>\n",
       "      <td>KNAPP HOUSE,\\nSELSLEY WEST,\\nSTROUD,\\nGLOUCEST...</td>\n",
       "      <td>4600</td>\n",
       "    </tr>\n",
       "    <tr>\n",
       "      <th>99996</th>\n",
       "      <td>99997</td>\n",
       "      <td>20 The Broadway, Hampton Court,\\nWay, Thames D...</td>\n",
       "      <td>4100</td>\n",
       "    </tr>\n",
       "    <tr>\n",
       "      <th>99997</th>\n",
       "      <td>99998</td>\n",
       "      <td>MARLAND HOUSE,\\n13 HUDDERSFIELD ROAD,\\nBARNSLE...</td>\n",
       "      <td>5600</td>\n",
       "    </tr>\n",
       "    <tr>\n",
       "      <th>99998</th>\n",
       "      <td>99999</td>\n",
       "      <td>4 MOUNT SCAR VIEW,\\nSCHOLES,\\nHOLMFIRTH HUDDER...</td>\n",
       "      <td>4600</td>\n",
       "    </tr>\n",
       "    <tr>\n",
       "      <th>99999</th>\n",
       "      <td>100000</td>\n",
       "      <td>Manningham Mills Community Center, Silk Wareho...</td>\n",
       "      <td>5100</td>\n",
       "    </tr>\n",
       "  </tbody>\n",
       "</table>\n",
       "<p>100000 rows × 3 columns</p>\n",
       "</div>"
      ]
     },
     "execution_count": 3,
     "metadata": {},
     "output_type": "execute_result"
    }
   ],
   "execution_count": 3
  },
  {
   "metadata": {
    "ExecuteTime": {
     "end_time": "2025-08-30T01:47:54.907369Z",
     "start_time": "2025-08-30T01:47:54.903804Z"
    }
   },
   "cell_type": "code",
   "source": "cities",
   "id": "feaabb4ef7838549",
   "outputs": [
    {
     "data": {
      "text/plain": [
       "               city\n",
       "0           England\n",
       "1              Bath\n",
       "2       Birmingham*\n",
       "3         Bradford*\n",
       "4   Brighton & Hove\n",
       "..              ...\n",
       "75          Newport\n",
       "76         St Asaph\n",
       "77        St Davids\n",
       "78         Swansea*\n",
       "79          Wrexham\n",
       "\n",
       "[80 rows x 1 columns]"
      ],
      "text/html": [
       "<div>\n",
       "<style scoped>\n",
       "    .dataframe tbody tr th:only-of-type {\n",
       "        vertical-align: middle;\n",
       "    }\n",
       "\n",
       "    .dataframe tbody tr th {\n",
       "        vertical-align: top;\n",
       "    }\n",
       "\n",
       "    .dataframe thead th {\n",
       "        text-align: right;\n",
       "    }\n",
       "</style>\n",
       "<table border=\"1\" class=\"dataframe\">\n",
       "  <thead>\n",
       "    <tr style=\"text-align: right;\">\n",
       "      <th></th>\n",
       "      <th>city</th>\n",
       "    </tr>\n",
       "  </thead>\n",
       "  <tbody>\n",
       "    <tr>\n",
       "      <th>0</th>\n",
       "      <td>England</td>\n",
       "    </tr>\n",
       "    <tr>\n",
       "      <th>1</th>\n",
       "      <td>Bath</td>\n",
       "    </tr>\n",
       "    <tr>\n",
       "      <th>2</th>\n",
       "      <td>Birmingham*</td>\n",
       "    </tr>\n",
       "    <tr>\n",
       "      <th>3</th>\n",
       "      <td>Bradford*</td>\n",
       "    </tr>\n",
       "    <tr>\n",
       "      <th>4</th>\n",
       "      <td>Brighton &amp; Hove</td>\n",
       "    </tr>\n",
       "    <tr>\n",
       "      <th>...</th>\n",
       "      <td>...</td>\n",
       "    </tr>\n",
       "    <tr>\n",
       "      <th>75</th>\n",
       "      <td>Newport</td>\n",
       "    </tr>\n",
       "    <tr>\n",
       "      <th>76</th>\n",
       "      <td>St Asaph</td>\n",
       "    </tr>\n",
       "    <tr>\n",
       "      <th>77</th>\n",
       "      <td>St Davids</td>\n",
       "    </tr>\n",
       "    <tr>\n",
       "      <th>78</th>\n",
       "      <td>Swansea*</td>\n",
       "    </tr>\n",
       "    <tr>\n",
       "      <th>79</th>\n",
       "      <td>Wrexham</td>\n",
       "    </tr>\n",
       "  </tbody>\n",
       "</table>\n",
       "<p>80 rows × 1 columns</p>\n",
       "</div>"
      ]
     },
     "execution_count": 4,
     "metadata": {},
     "output_type": "execute_result"
    }
   ],
   "execution_count": 4
  },
  {
   "metadata": {},
   "cell_type": "markdown",
   "source": "Data Profiling",
   "id": "8b13700a4ffa3499"
  },
  {
   "metadata": {
    "ExecuteTime": {
     "end_time": "2025-08-30T01:47:55.071593Z",
     "start_time": "2025-08-30T01:47:55.058696Z"
    }
   },
   "cell_type": "code",
   "source": [
    "customers_addresses.isnull().sum()\n",
    "customers_addresses = customers_addresses.dropna(subset=['address'])\n",
    "print(customers_addresses)"
   ],
   "id": "19f42499c336bcf8",
   "outputs": [
    {
     "name": "stdout",
     "output_type": "stream",
     "text": [
      "       company_id                                            address  \\\n",
      "0               1  APARTMENT 2,\\n52 BEDFORD ROAD,\\nLONDON,\\nENGLA...   \n",
      "1               2           107 SHERINGHAM AVENUE,\\nLONDON,\\nN14 4UJ   \n",
      "2               3  43 SUNNINGDALE,\\nYATE,\\nBRISTOL,\\nENGLAND,\\nBS...   \n",
      "3               4  HAWESWATER HOUSE,\\nLINGLEY MERE BUSINESS PARK,...   \n",
      "4               5  AMBERFIELD BARN HOUSE AMBER LANE,\\nCHART SUTTO...   \n",
      "...           ...                                                ...   \n",
      "99995       99996  KNAPP HOUSE,\\nSELSLEY WEST,\\nSTROUD,\\nGLOUCEST...   \n",
      "99996       99997  20 The Broadway, Hampton Court,\\nWay, Thames D...   \n",
      "99997       99998  MARLAND HOUSE,\\n13 HUDDERSFIELD ROAD,\\nBARNSLE...   \n",
      "99998       99999  4 MOUNT SCAR VIEW,\\nSCHOLES,\\nHOLMFIRTH HUDDER...   \n",
      "99999      100000  Manningham Mills Community Center, Silk Wareho...   \n",
      "\n",
      "       total_spend  \n",
      "0             5700  \n",
      "1             4700  \n",
      "2             5900  \n",
      "3             7200  \n",
      "4             4600  \n",
      "...            ...  \n",
      "99995         4600  \n",
      "99996         4100  \n",
      "99997         5600  \n",
      "99998         4600  \n",
      "99999         5100  \n",
      "\n",
      "[99032 rows x 3 columns]\n"
     ]
    }
   ],
   "execution_count": 5
  },
  {
   "metadata": {
    "ExecuteTime": {
     "end_time": "2025-08-30T01:47:55.182029Z",
     "start_time": "2025-08-30T01:47:55.175541Z"
    }
   },
   "cell_type": "code",
   "source": "print(customers_addresses['total_spend'].describe())",
   "id": "f8c1b029f2678791",
   "outputs": [
    {
     "name": "stdout",
     "output_type": "stream",
     "text": [
      "count    99032.000000\n",
      "mean      4951.673197\n",
      "std       1500.642398\n",
      "min          0.000000\n",
      "25%       3900.000000\n",
      "50%       5000.000000\n",
      "75%       6000.000000\n",
      "max      11700.000000\n",
      "Name: total_spend, dtype: float64\n"
     ]
    }
   ],
   "execution_count": 6
  },
  {
   "metadata": {
    "ExecuteTime": {
     "end_time": "2025-08-30T01:47:55.372878Z",
     "start_time": "2025-08-30T01:47:55.369488Z"
    }
   },
   "cell_type": "code",
   "source": "customers_addresses['address']",
   "id": "c6534f8f370706df",
   "outputs": [
    {
     "data": {
      "text/plain": [
       "0        APARTMENT 2,\\n52 BEDFORD ROAD,\\nLONDON,\\nENGLA...\n",
       "1                 107 SHERINGHAM AVENUE,\\nLONDON,\\nN14 4UJ\n",
       "2        43 SUNNINGDALE,\\nYATE,\\nBRISTOL,\\nENGLAND,\\nBS...\n",
       "3        HAWESWATER HOUSE,\\nLINGLEY MERE BUSINESS PARK,...\n",
       "4        AMBERFIELD BARN HOUSE AMBER LANE,\\nCHART SUTTO...\n",
       "                               ...                        \n",
       "99995    KNAPP HOUSE,\\nSELSLEY WEST,\\nSTROUD,\\nGLOUCEST...\n",
       "99996    20 The Broadway, Hampton Court,\\nWay, Thames D...\n",
       "99997    MARLAND HOUSE,\\n13 HUDDERSFIELD ROAD,\\nBARNSLE...\n",
       "99998    4 MOUNT SCAR VIEW,\\nSCHOLES,\\nHOLMFIRTH HUDDER...\n",
       "99999    Manningham Mills Community Center, Silk Wareho...\n",
       "Name: address, Length: 99032, dtype: object"
      ]
     },
     "execution_count": 7,
     "metadata": {},
     "output_type": "execute_result"
    }
   ],
   "execution_count": 7
  },
  {
   "metadata": {
    "ExecuteTime": {
     "end_time": "2025-08-30T01:47:55.511738Z",
     "start_time": "2025-08-30T01:47:55.450896Z"
    }
   },
   "cell_type": "code",
   "source": [
    "customers_addresses['address_clean'] = customers_addresses['address'].str.upper()\n",
    "print(len(customers_addresses[customers_addresses[\"address_clean\"].str.contains(\"LONDON\")]))\n",
    "print(len(customers_addresses[customers_addresses[\"address_clean\"].str.contains(\"LONDON,\")]))"
   ],
   "id": "71f6803d675e3fe9",
   "outputs": [
    {
     "name": "stdout",
     "output_type": "stream",
     "text": [
      "21768\n",
      "20831\n"
     ]
    },
    {
     "name": "stderr",
     "output_type": "stream",
     "text": [
      "/var/folders/97/835pt_fd54749hk3wzm_wv2w0000gn/T/ipykernel_56260/1571102609.py:1: SettingWithCopyWarning: \n",
      "A value is trying to be set on a copy of a slice from a DataFrame.\n",
      "Try using .loc[row_indexer,col_indexer] = value instead\n",
      "\n",
      "See the caveats in the documentation: https://pandas.pydata.org/pandas-docs/stable/user_guide/indexing.html#returning-a-view-versus-a-copy\n",
      "  customers_addresses['address_clean'] = customers_addresses['address'].str.upper()\n"
     ]
    }
   ],
   "execution_count": 8
  },
  {
   "metadata": {
    "ExecuteTime": {
     "end_time": "2025-08-30T01:47:55.643681Z",
     "start_time": "2025-08-30T01:47:55.554372Z"
    }
   },
   "cell_type": "code",
   "source": [
    "customers_addresses['address_lines'] = customers_addresses['address_clean'].str.split('\\n').apply(len)\n",
    "customers_addresses['address_lines'].value_counts().sort_index()"
   ],
   "id": "f9c09ee1be142558",
   "outputs": [
    {
     "name": "stderr",
     "output_type": "stream",
     "text": [
      "/var/folders/97/835pt_fd54749hk3wzm_wv2w0000gn/T/ipykernel_56260/370793050.py:1: SettingWithCopyWarning: \n",
      "A value is trying to be set on a copy of a slice from a DataFrame.\n",
      "Try using .loc[row_indexer,col_indexer] = value instead\n",
      "\n",
      "See the caveats in the documentation: https://pandas.pydata.org/pandas-docs/stable/user_guide/indexing.html#returning-a-view-versus-a-copy\n",
      "  customers_addresses['address_lines'] = customers_addresses['address_clean'].str.split('\\n').apply(len)\n"
     ]
    },
    {
     "data": {
      "text/plain": [
       "address_lines\n",
       "1        6\n",
       "2       52\n",
       "3     3284\n",
       "4    35850\n",
       "5    45931\n",
       "6    13909\n",
       "Name: count, dtype: int64"
      ]
     },
     "execution_count": 9,
     "metadata": {},
     "output_type": "execute_result"
    }
   ],
   "execution_count": 9
  },
  {
   "metadata": {
    "ExecuteTime": {
     "end_time": "2025-08-30T01:47:55.880153Z",
     "start_time": "2025-08-30T01:47:55.872538Z"
    }
   },
   "cell_type": "code",
   "source": [
    "print(customers_addresses.loc[customers_addresses[\"address_lines\"] == 1, \"address_clean\"])\n",
    "print((\n",
    "    customers_addresses[customers_addresses[\"address_lines\"] == 2]\n",
    "    .sample(5, random_state=42)\n",
    "    [\"address_clean\"])\n",
    ")"
   ],
   "id": "c02d44901f6440a",
   "outputs": [
    {
     "name": "stdout",
     "output_type": "stream",
     "text": [
      "17789                      FALKIRK\n",
      "31897                   HADDINGTON\n",
      "61750          CREAG BHAITHEACHAIN\n",
      "75330                     NEWMILNS\n",
      "78045    REDCLOAK FARM, STONEHAVEN\n",
      "90897     REFER TO PARENT REGISTRY\n",
      "Name: address_clean, dtype: object\n",
      "39443                                    FORFAR,\\nANGUS\n",
      "80846                        12 HOPE STREET,\\nEDINBURGH\n",
      "95979    BRANCH REGISTRATION,\\nREFER TO PARENT REGISTRY\n",
      "23563    BRANCH REGISTRATION,\\nREFER TO PARENT REGISTRY\n",
      "81155                             PO BOX 2230,\\nGLASGOW\n",
      "Name: address_clean, dtype: object\n"
     ]
    }
   ],
   "execution_count": 10
  },
  {
   "metadata": {},
   "cell_type": "markdown",
   "source": "Next, process cleaning cities data",
   "id": "ee9d9f5abcd74058"
  },
  {
   "metadata": {
    "ExecuteTime": {
     "end_time": "2025-08-30T01:47:55.935705Z",
     "start_time": "2025-08-30T01:47:55.926217Z"
    }
   },
   "cell_type": "code",
   "source": [
    "countries_to_remove = [\"England\", \"Scotland\", \"Wales\", \"Northern Ireland\"]\n",
    "print(len(cities))\n",
    "\n",
    "cities_to_remove_indexes = cities[cities['city'].isin(countries_to_remove)].index\n",
    "cities = cities.drop(index=cities_to_remove_indexes)\n",
    "print(f\"Removed {len(cities_to_remove_indexes)} cities\")\n",
    "\n",
    "# Do trim and upper case\n",
    "cities['city'] = cities['city'].str.replace(\"*\", \"\", regex=False)\n",
    "cities['city'] = cities['city'].str.upper()\n",
    "\n",
    "cities"
   ],
   "id": "79367dbf8fb3e4a1",
   "outputs": [
    {
     "name": "stdout",
     "output_type": "stream",
     "text": [
      "80\n",
      "Removed 4 cities\n"
     ]
    },
    {
     "data": {
      "text/plain": [
       "               city\n",
       "1              BATH\n",
       "2        BIRMINGHAM\n",
       "3          BRADFORD\n",
       "4   BRIGHTON & HOVE\n",
       "5           BRISTOL\n",
       "..              ...\n",
       "75          NEWPORT\n",
       "76         ST ASAPH\n",
       "77        ST DAVIDS\n",
       "78          SWANSEA\n",
       "79          WREXHAM\n",
       "\n",
       "[76 rows x 1 columns]"
      ],
      "text/html": [
       "<div>\n",
       "<style scoped>\n",
       "    .dataframe tbody tr th:only-of-type {\n",
       "        vertical-align: middle;\n",
       "    }\n",
       "\n",
       "    .dataframe tbody tr th {\n",
       "        vertical-align: top;\n",
       "    }\n",
       "\n",
       "    .dataframe thead th {\n",
       "        text-align: right;\n",
       "    }\n",
       "</style>\n",
       "<table border=\"1\" class=\"dataframe\">\n",
       "  <thead>\n",
       "    <tr style=\"text-align: right;\">\n",
       "      <th></th>\n",
       "      <th>city</th>\n",
       "    </tr>\n",
       "  </thead>\n",
       "  <tbody>\n",
       "    <tr>\n",
       "      <th>1</th>\n",
       "      <td>BATH</td>\n",
       "    </tr>\n",
       "    <tr>\n",
       "      <th>2</th>\n",
       "      <td>BIRMINGHAM</td>\n",
       "    </tr>\n",
       "    <tr>\n",
       "      <th>3</th>\n",
       "      <td>BRADFORD</td>\n",
       "    </tr>\n",
       "    <tr>\n",
       "      <th>4</th>\n",
       "      <td>BRIGHTON &amp; HOVE</td>\n",
       "    </tr>\n",
       "    <tr>\n",
       "      <th>5</th>\n",
       "      <td>BRISTOL</td>\n",
       "    </tr>\n",
       "    <tr>\n",
       "      <th>...</th>\n",
       "      <td>...</td>\n",
       "    </tr>\n",
       "    <tr>\n",
       "      <th>75</th>\n",
       "      <td>NEWPORT</td>\n",
       "    </tr>\n",
       "    <tr>\n",
       "      <th>76</th>\n",
       "      <td>ST ASAPH</td>\n",
       "    </tr>\n",
       "    <tr>\n",
       "      <th>77</th>\n",
       "      <td>ST DAVIDS</td>\n",
       "    </tr>\n",
       "    <tr>\n",
       "      <th>78</th>\n",
       "      <td>SWANSEA</td>\n",
       "    </tr>\n",
       "    <tr>\n",
       "      <th>79</th>\n",
       "      <td>WREXHAM</td>\n",
       "    </tr>\n",
       "  </tbody>\n",
       "</table>\n",
       "<p>76 rows × 1 columns</p>\n",
       "</div>"
      ]
     },
     "execution_count": 11,
     "metadata": {},
     "output_type": "execute_result"
    }
   ],
   "execution_count": 11
  },
  {
   "metadata": {},
   "cell_type": "markdown",
   "source": "Start assigning city for customer address",
   "id": "e88120e78a776a52"
  },
  {
   "metadata": {
    "ExecuteTime": {
     "end_time": "2025-08-30T01:47:57.402316Z",
     "start_time": "2025-08-30T01:47:55.986073Z"
    }
   },
   "cell_type": "code",
   "source": [
    "for city in cities['city']:\n",
    "    customers_addresses.loc[customers_addresses['address_clean'].str.contains(city), 'city'] = city\n",
    "customers_addresses.loc[customers_addresses[\"address_clean\"].str.contains(\"HULL\"), \"city\"] = \"HULL\"\n",
    "customers_addresses['city'] = customers_addresses['city'].fillna('OTHER')"
   ],
   "id": "62bc25c4c07a74a9",
   "outputs": [
    {
     "name": "stderr",
     "output_type": "stream",
     "text": [
      "/var/folders/97/835pt_fd54749hk3wzm_wv2w0000gn/T/ipykernel_56260/1859301004.py:2: SettingWithCopyWarning: \n",
      "A value is trying to be set on a copy of a slice from a DataFrame.\n",
      "Try using .loc[row_indexer,col_indexer] = value instead\n",
      "\n",
      "See the caveats in the documentation: https://pandas.pydata.org/pandas-docs/stable/user_guide/indexing.html#returning-a-view-versus-a-copy\n",
      "  customers_addresses.loc[customers_addresses['address_clean'].str.contains(city), 'city'] = city\n",
      "/var/folders/97/835pt_fd54749hk3wzm_wv2w0000gn/T/ipykernel_56260/1859301004.py:4: SettingWithCopyWarning: \n",
      "A value is trying to be set on a copy of a slice from a DataFrame.\n",
      "Try using .loc[row_indexer,col_indexer] = value instead\n",
      "\n",
      "See the caveats in the documentation: https://pandas.pydata.org/pandas-docs/stable/user_guide/indexing.html#returning-a-view-versus-a-copy\n",
      "  customers_addresses['city'] = customers_addresses['city'].fillna('OTHER')\n"
     ]
    }
   ],
   "execution_count": 12
  },
  {
   "metadata": {
    "ExecuteTime": {
     "end_time": "2025-08-30T01:47:57.473811Z",
     "start_time": "2025-08-30T01:47:57.467934Z"
    }
   },
   "cell_type": "code",
   "source": "customers_addresses.head(10)",
   "id": "ed8f7a49d9d69759",
   "outputs": [
    {
     "data": {
      "text/plain": [
       "   company_id                                            address  total_spend  \\\n",
       "0           1  APARTMENT 2,\\n52 BEDFORD ROAD,\\nLONDON,\\nENGLA...         5700   \n",
       "1           2           107 SHERINGHAM AVENUE,\\nLONDON,\\nN14 4UJ         4700   \n",
       "2           3  43 SUNNINGDALE,\\nYATE,\\nBRISTOL,\\nENGLAND,\\nBS...         5900   \n",
       "3           4  HAWESWATER HOUSE,\\nLINGLEY MERE BUSINESS PARK,...         7200   \n",
       "4           5  AMBERFIELD BARN HOUSE AMBER LANE,\\nCHART SUTTO...         4600   \n",
       "5           6  FIRST FLOOR CEF BUILDING,\\nBROOMHILL WAY,\\nTOR...         4600   \n",
       "6           7  37 BEVERLEY ROAD,\\nDRIFFIELD,\\nENGLAND,\\nYO25 6RZ         7300   \n",
       "7           8  B82 ALBION RIVERSIDE BUILDING,\\n8 HESTER ROAD,...         6100   \n",
       "8           9  Flat 27, Domelton House,\\nIron Mill Road,\\nLon...         4200   \n",
       "9          10  34 BROOKSIDE ESTATE,\\nCHALGROVE,\\nOXFORD,\\nUNI...         5800   \n",
       "\n",
       "                                       address_clean  address_lines     city  \n",
       "0  APARTMENT 2,\\n52 BEDFORD ROAD,\\nLONDON,\\nENGLA...              5   LONDON  \n",
       "1           107 SHERINGHAM AVENUE,\\nLONDON,\\nN14 4UJ              3   LONDON  \n",
       "2  43 SUNNINGDALE,\\nYATE,\\nBRISTOL,\\nENGLAND,\\nBS...              5  BRISTOL  \n",
       "3  HAWESWATER HOUSE,\\nLINGLEY MERE BUSINESS PARK,...              5    OTHER  \n",
       "4  AMBERFIELD BARN HOUSE AMBER LANE,\\nCHART SUTTO...              5    OTHER  \n",
       "5  FIRST FLOOR CEF BUILDING,\\nBROOMHILL WAY,\\nTOR...              6    OTHER  \n",
       "6  37 BEVERLEY ROAD,\\nDRIFFIELD,\\nENGLAND,\\nYO25 6RZ              4    OTHER  \n",
       "7  B82 ALBION RIVERSIDE BUILDING,\\n8 HESTER ROAD,...              5   LONDON  \n",
       "8  FLAT 27, DOMELTON HOUSE,\\nIRON MILL ROAD,\\nLON...              5   LONDON  \n",
       "9  34 BROOKSIDE ESTATE,\\nCHALGROVE,\\nOXFORD,\\nUNI...              5   OXFORD  "
      ],
      "text/html": [
       "<div>\n",
       "<style scoped>\n",
       "    .dataframe tbody tr th:only-of-type {\n",
       "        vertical-align: middle;\n",
       "    }\n",
       "\n",
       "    .dataframe tbody tr th {\n",
       "        vertical-align: top;\n",
       "    }\n",
       "\n",
       "    .dataframe thead th {\n",
       "        text-align: right;\n",
       "    }\n",
       "</style>\n",
       "<table border=\"1\" class=\"dataframe\">\n",
       "  <thead>\n",
       "    <tr style=\"text-align: right;\">\n",
       "      <th></th>\n",
       "      <th>company_id</th>\n",
       "      <th>address</th>\n",
       "      <th>total_spend</th>\n",
       "      <th>address_clean</th>\n",
       "      <th>address_lines</th>\n",
       "      <th>city</th>\n",
       "    </tr>\n",
       "  </thead>\n",
       "  <tbody>\n",
       "    <tr>\n",
       "      <th>0</th>\n",
       "      <td>1</td>\n",
       "      <td>APARTMENT 2,\\n52 BEDFORD ROAD,\\nLONDON,\\nENGLA...</td>\n",
       "      <td>5700</td>\n",
       "      <td>APARTMENT 2,\\n52 BEDFORD ROAD,\\nLONDON,\\nENGLA...</td>\n",
       "      <td>5</td>\n",
       "      <td>LONDON</td>\n",
       "    </tr>\n",
       "    <tr>\n",
       "      <th>1</th>\n",
       "      <td>2</td>\n",
       "      <td>107 SHERINGHAM AVENUE,\\nLONDON,\\nN14 4UJ</td>\n",
       "      <td>4700</td>\n",
       "      <td>107 SHERINGHAM AVENUE,\\nLONDON,\\nN14 4UJ</td>\n",
       "      <td>3</td>\n",
       "      <td>LONDON</td>\n",
       "    </tr>\n",
       "    <tr>\n",
       "      <th>2</th>\n",
       "      <td>3</td>\n",
       "      <td>43 SUNNINGDALE,\\nYATE,\\nBRISTOL,\\nENGLAND,\\nBS...</td>\n",
       "      <td>5900</td>\n",
       "      <td>43 SUNNINGDALE,\\nYATE,\\nBRISTOL,\\nENGLAND,\\nBS...</td>\n",
       "      <td>5</td>\n",
       "      <td>BRISTOL</td>\n",
       "    </tr>\n",
       "    <tr>\n",
       "      <th>3</th>\n",
       "      <td>4</td>\n",
       "      <td>HAWESWATER HOUSE,\\nLINGLEY MERE BUSINESS PARK,...</td>\n",
       "      <td>7200</td>\n",
       "      <td>HAWESWATER HOUSE,\\nLINGLEY MERE BUSINESS PARK,...</td>\n",
       "      <td>5</td>\n",
       "      <td>OTHER</td>\n",
       "    </tr>\n",
       "    <tr>\n",
       "      <th>4</th>\n",
       "      <td>5</td>\n",
       "      <td>AMBERFIELD BARN HOUSE AMBER LANE,\\nCHART SUTTO...</td>\n",
       "      <td>4600</td>\n",
       "      <td>AMBERFIELD BARN HOUSE AMBER LANE,\\nCHART SUTTO...</td>\n",
       "      <td>5</td>\n",
       "      <td>OTHER</td>\n",
       "    </tr>\n",
       "    <tr>\n",
       "      <th>5</th>\n",
       "      <td>6</td>\n",
       "      <td>FIRST FLOOR CEF BUILDING,\\nBROOMHILL WAY,\\nTOR...</td>\n",
       "      <td>4600</td>\n",
       "      <td>FIRST FLOOR CEF BUILDING,\\nBROOMHILL WAY,\\nTOR...</td>\n",
       "      <td>6</td>\n",
       "      <td>OTHER</td>\n",
       "    </tr>\n",
       "    <tr>\n",
       "      <th>6</th>\n",
       "      <td>7</td>\n",
       "      <td>37 BEVERLEY ROAD,\\nDRIFFIELD,\\nENGLAND,\\nYO25 6RZ</td>\n",
       "      <td>7300</td>\n",
       "      <td>37 BEVERLEY ROAD,\\nDRIFFIELD,\\nENGLAND,\\nYO25 6RZ</td>\n",
       "      <td>4</td>\n",
       "      <td>OTHER</td>\n",
       "    </tr>\n",
       "    <tr>\n",
       "      <th>7</th>\n",
       "      <td>8</td>\n",
       "      <td>B82 ALBION RIVERSIDE BUILDING,\\n8 HESTER ROAD,...</td>\n",
       "      <td>6100</td>\n",
       "      <td>B82 ALBION RIVERSIDE BUILDING,\\n8 HESTER ROAD,...</td>\n",
       "      <td>5</td>\n",
       "      <td>LONDON</td>\n",
       "    </tr>\n",
       "    <tr>\n",
       "      <th>8</th>\n",
       "      <td>9</td>\n",
       "      <td>Flat 27, Domelton House,\\nIron Mill Road,\\nLon...</td>\n",
       "      <td>4200</td>\n",
       "      <td>FLAT 27, DOMELTON HOUSE,\\nIRON MILL ROAD,\\nLON...</td>\n",
       "      <td>5</td>\n",
       "      <td>LONDON</td>\n",
       "    </tr>\n",
       "    <tr>\n",
       "      <th>9</th>\n",
       "      <td>10</td>\n",
       "      <td>34 BROOKSIDE ESTATE,\\nCHALGROVE,\\nOXFORD,\\nUNI...</td>\n",
       "      <td>5800</td>\n",
       "      <td>34 BROOKSIDE ESTATE,\\nCHALGROVE,\\nOXFORD,\\nUNI...</td>\n",
       "      <td>5</td>\n",
       "      <td>OXFORD</td>\n",
       "    </tr>\n",
       "  </tbody>\n",
       "</table>\n",
       "</div>"
      ]
     },
     "execution_count": 13,
     "metadata": {},
     "output_type": "execute_result"
    }
   ],
   "execution_count": 13
  },
  {
   "metadata": {},
   "cell_type": "markdown",
   "source": "Exploring data",
   "id": "ce3d094b81d92c73"
  },
  {
   "metadata": {
    "ExecuteTime": {
     "end_time": "2025-08-30T01:47:57.652534Z",
     "start_time": "2025-08-30T01:47:57.645262Z"
    }
   },
   "cell_type": "code",
   "source": "customers_addresses['city'].value_counts().head(20)",
   "id": "77687fa805edf38b",
   "outputs": [
    {
     "data": {
      "text/plain": [
       "city\n",
       "OTHER         46669\n",
       "LONDON        21332\n",
       "YORK           2546\n",
       "MANCHESTER     2150\n",
       "BIRMINGHAM     1823\n",
       "GLASGOW        1304\n",
       "LEICESTER      1184\n",
       "BRISTOL        1137\n",
       "EDINBURGH      1071\n",
       "NOTTINGHAM     1035\n",
       "LIVERPOOL       840\n",
       "CARDIFF         817\n",
       "LEEDS           748\n",
       "DERBY           716\n",
       "CHESTER         672\n",
       "OXFORD          652\n",
       "HULL            630\n",
       "COVENTRY        603\n",
       "LINCOLN         573\n",
       "WORCESTER       572\n",
       "Name: count, dtype: int64"
      ]
     },
     "execution_count": 14,
     "metadata": {},
     "output_type": "execute_result"
    }
   ],
   "execution_count": 14
  },
  {
   "metadata": {
    "ExecuteTime": {
     "end_time": "2025-08-30T01:47:57.886159Z",
     "start_time": "2025-08-30T01:47:57.874100Z"
    }
   },
   "cell_type": "code",
   "source": [
    "# Find sample from OTHER city\n",
    "other_sample = customers_addresses[customers_addresses['city'] == 'OTHER'].sample(5, random_state=42)\n",
    "other_sample"
   ],
   "id": "4df08852cb5ab66a",
   "outputs": [
    {
     "data": {
      "text/plain": [
       "       company_id                                            address  \\\n",
       "29325       29326  SUITES 11 - 16 PRUDENTIAL BUILDINGS,\\n61 ST. P...   \n",
       "22219       22220  28  BULSTRODE PLACE,\\nUPTON PARK,\\nSLOUGH,\\nBE...   \n",
       "23551       23552  23 WOODCROFT AVENUE,\\nLARGS,\\nSCOTLAND,\\nKA30 9EW   \n",
       "47673       47674  24 CANNON STREET,\\nWINCHBURGH,\\nBROXBURN,\\nSCO...   \n",
       "65467       65468  14 Parkfield Road,\\nLong Buckby,\\nNorthampton,...   \n",
       "\n",
       "       total_spend                                      address_clean  \\\n",
       "29325         2700  SUITES 11 - 16 PRUDENTIAL BUILDINGS,\\n61 ST. P...   \n",
       "22219         3600  28  BULSTRODE PLACE,\\nUPTON PARK,\\nSLOUGH,\\nBE...   \n",
       "23551         7900  23 WOODCROFT AVENUE,\\nLARGS,\\nSCOTLAND,\\nKA30 9EW   \n",
       "47673         4400  24 CANNON STREET,\\nWINCHBURGH,\\nBROXBURN,\\nSCO...   \n",
       "65467         4600  14 PARKFIELD ROAD,\\nLONG BUCKBY,\\nNORTHAMPTON,...   \n",
       "\n",
       "       address_lines   city  \n",
       "29325              6  OTHER  \n",
       "22219              6  OTHER  \n",
       "23551              4  OTHER  \n",
       "47673              5  OTHER  \n",
       "65467              5  OTHER  "
      ],
      "text/html": [
       "<div>\n",
       "<style scoped>\n",
       "    .dataframe tbody tr th:only-of-type {\n",
       "        vertical-align: middle;\n",
       "    }\n",
       "\n",
       "    .dataframe tbody tr th {\n",
       "        vertical-align: top;\n",
       "    }\n",
       "\n",
       "    .dataframe thead th {\n",
       "        text-align: right;\n",
       "    }\n",
       "</style>\n",
       "<table border=\"1\" class=\"dataframe\">\n",
       "  <thead>\n",
       "    <tr style=\"text-align: right;\">\n",
       "      <th></th>\n",
       "      <th>company_id</th>\n",
       "      <th>address</th>\n",
       "      <th>total_spend</th>\n",
       "      <th>address_clean</th>\n",
       "      <th>address_lines</th>\n",
       "      <th>city</th>\n",
       "    </tr>\n",
       "  </thead>\n",
       "  <tbody>\n",
       "    <tr>\n",
       "      <th>29325</th>\n",
       "      <td>29326</td>\n",
       "      <td>SUITES 11 - 16 PRUDENTIAL BUILDINGS,\\n61 ST. P...</td>\n",
       "      <td>2700</td>\n",
       "      <td>SUITES 11 - 16 PRUDENTIAL BUILDINGS,\\n61 ST. P...</td>\n",
       "      <td>6</td>\n",
       "      <td>OTHER</td>\n",
       "    </tr>\n",
       "    <tr>\n",
       "      <th>22219</th>\n",
       "      <td>22220</td>\n",
       "      <td>28  BULSTRODE PLACE,\\nUPTON PARK,\\nSLOUGH,\\nBE...</td>\n",
       "      <td>3600</td>\n",
       "      <td>28  BULSTRODE PLACE,\\nUPTON PARK,\\nSLOUGH,\\nBE...</td>\n",
       "      <td>6</td>\n",
       "      <td>OTHER</td>\n",
       "    </tr>\n",
       "    <tr>\n",
       "      <th>23551</th>\n",
       "      <td>23552</td>\n",
       "      <td>23 WOODCROFT AVENUE,\\nLARGS,\\nSCOTLAND,\\nKA30 9EW</td>\n",
       "      <td>7900</td>\n",
       "      <td>23 WOODCROFT AVENUE,\\nLARGS,\\nSCOTLAND,\\nKA30 9EW</td>\n",
       "      <td>4</td>\n",
       "      <td>OTHER</td>\n",
       "    </tr>\n",
       "    <tr>\n",
       "      <th>47673</th>\n",
       "      <td>47674</td>\n",
       "      <td>24 CANNON STREET,\\nWINCHBURGH,\\nBROXBURN,\\nSCO...</td>\n",
       "      <td>4400</td>\n",
       "      <td>24 CANNON STREET,\\nWINCHBURGH,\\nBROXBURN,\\nSCO...</td>\n",
       "      <td>5</td>\n",
       "      <td>OTHER</td>\n",
       "    </tr>\n",
       "    <tr>\n",
       "      <th>65467</th>\n",
       "      <td>65468</td>\n",
       "      <td>14 Parkfield Road,\\nLong Buckby,\\nNorthampton,...</td>\n",
       "      <td>4600</td>\n",
       "      <td>14 PARKFIELD ROAD,\\nLONG BUCKBY,\\nNORTHAMPTON,...</td>\n",
       "      <td>5</td>\n",
       "      <td>OTHER</td>\n",
       "    </tr>\n",
       "  </tbody>\n",
       "</table>\n",
       "</div>"
      ]
     },
     "execution_count": 15,
     "metadata": {},
     "output_type": "execute_result"
    }
   ],
   "execution_count": 15
  },
  {
   "metadata": {
    "ExecuteTime": {
     "end_time": "2025-08-30T01:47:58.048153Z",
     "start_time": "2025-08-30T01:47:58.031787Z"
    }
   },
   "cell_type": "code",
   "source": [
    "print(\"Total spend for all customers:\")\n",
    "print(customers_addresses[\"total_spend\"].sum())\n",
    "\n",
    "print(\"Total spend for London customers:\")\n",
    "print(customers_addresses.loc[customers_addresses[\"city\"] == \"LONDON\", \"total_spend\"].sum())\n",
    "\n",
    "print(\"Total spend outside London:\")\n",
    "print(customers_addresses.loc[customers_addresses[\"city\"] != \"LONDON\", \"total_spend\"].sum())\n",
    "\n",
    "print(\"Total spend outside London (excluding OTHER):\")\n",
    "print(customers_addresses.loc[customers_addresses[\"city\"].isin([\"LONDON\", \"OTHER\"]) == False,\n",
    " \"total_spend\"].sum())"
   ],
   "id": "f7599d49921c621a",
   "outputs": [
    {
     "name": "stdout",
     "output_type": "stream",
     "text": [
      "Total spend for all customers:\n",
      "490374100\n",
      "Total spend for London customers:\n",
      "105821800\n",
      "Total spend outside London:\n",
      "384552300\n",
      "Total spend outside London (excluding OTHER):\n",
      "153516500\n"
     ]
    }
   ],
   "execution_count": 16
  },
  {
   "metadata": {
    "ExecuteTime": {
     "end_time": "2025-08-30T01:47:58.298946Z",
     "start_time": "2025-08-30T01:47:58.105609Z"
    }
   },
   "cell_type": "code",
   "source": [
    "output_csv_file = customers_addresses.to_csv(\"../../csv_files/customers_addresses_with_city.csv\",\n",
    "                                             sep=\";\",  # delimiter\n",
    "                                             encoding=\"utf-8\",  # or \"utf-8-sig\" for Excel compatibility\n",
    "                                             na_rep=\"\",  # how NaN shows up in the file\n",
    "                                             index=False,\n",
    "                                             )\n",
    "print(f\"Saved to {output_csv_file}\")"
   ],
   "id": "94ba9062038445bd",
   "outputs": [
    {
     "name": "stdout",
     "output_type": "stream",
     "text": [
      "Saved to None\n"
     ]
    }
   ],
   "execution_count": 17
  }
 ],
 "metadata": {
  "kernelspec": {
   "display_name": "Python 3",
   "language": "python",
   "name": "python3"
  },
  "language_info": {
   "codemirror_mode": {
    "name": "ipython",
    "version": 2
   },
   "file_extension": ".py",
   "mimetype": "text/x-python",
   "name": "python",
   "nbconvert_exporter": "python",
   "pygments_lexer": "ipython2",
   "version": "2.7.6"
  }
 },
 "nbformat": 4,
 "nbformat_minor": 5
}
